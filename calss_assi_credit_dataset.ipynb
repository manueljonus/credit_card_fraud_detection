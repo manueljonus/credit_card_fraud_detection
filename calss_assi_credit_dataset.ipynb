{
  "cells": [
    {
      "cell_type": "markdown",
      "metadata": {
        "id": "TK8sHshkfWLK"
      },
      "source": [
        "#**Credit Card Fraud Detection**"
      ]
    },
    {
      "cell_type": "markdown",
      "metadata": {
        "id": "0VhdmmpwMCwz"
      },
      "source": [
        "It is important that credit card companies are able to recognize fraudulent credit card transactions."
      ]
    },
    {
      "cell_type": "code",
      "execution_count": 1,
      "metadata": {
        "id": "v0gs-fKEfUm9"
      },
      "outputs": [],
      "source": [
        "import numpy as np\n",
        "import pandas as pd"
      ]
    },
    {
      "cell_type": "markdown",
      "metadata": {
        "id": "pGyUzm6jgQbJ"
      },
      "source": [
        "**ID** - Client Number <br>\n",
        "**GENDER** - M : Male , F : Female<br>\n",
        "**CAR** - Owns car or NO<br>\n",
        "**REALITY** - Is there a property<br>\n",
        "**NO_OF_CHILD** - Number Of Children<br>\n",
        "**INCOME** - Anually Income<br>\n",
        "**EDUCATION_TYPE** - Educaiton Level<br>\n",
        "**FAMILY_TYP**E - Marital Status<br>\n",
        "**HOUSE_TYPE** - Way of Living<br>\n",
        "**FLAG_MOBILE** - Is there a mobile phone<br>\n",
        "**WORK_PHONE** - Is there a work phone<br>\n",
        "**PHONE** - Is there a phone<br>\n",
        "**OCCUPATION_TYPE** - Occupation<br>\n",
        "**FAMILY_SIZE** - No. Of family members<br>\n",
        "**BEGIN_MONTH** - The month of the extracted data is the starting point, backwards, 0 is the current month, -1 is the previous month, and so on<br>\n",
        "**AGE** - Age of the <br>\n",
        "**YEARS_EMPLOYED** - Years of working<br>\n",
        "**Target** - *Yes* : **1**, *No* : **0** // *Yes* - **Fraud**, No - **Not_fraud**"
      ]
    },
    {
      "cell_type": "code",
      "execution_count": 2,
      "metadata": {
        "colab": {
          "base_uri": "https://localhost:8080/",
          "height": 817
        },
        "id": "nA8TvPbxiZnO",
        "outputId": "a1bc42c7-92d2-4088-d6e2-110ecfcc130c"
      },
      "outputs": [
        {
          "data": {
            "text/html": [
              "\n",
              "\n",
              "  <div id=\"df-acaaafb7-5a84-4bdb-871b-fd9a38b05094\">\n",
              "    <div class=\"colab-df-container\">\n",
              "      <div>\n",
              "<style scoped>\n",
              "    .dataframe tbody tr th:only-of-type {\n",
              "        vertical-align: middle;\n",
              "    }\n",
              "\n",
              "    .dataframe tbody tr th {\n",
              "        vertical-align: top;\n",
              "    }\n",
              "\n",
              "    .dataframe thead th {\n",
              "        text-align: right;\n",
              "    }\n",
              "</style>\n",
              "<table border=\"1\" class=\"dataframe\">\n",
              "  <thead>\n",
              "    <tr style=\"text-align: right;\">\n",
              "      <th></th>\n",
              "      <th>Unnamed: 0</th>\n",
              "      <th>ID</th>\n",
              "      <th>GENDER</th>\n",
              "      <th>CAR</th>\n",
              "      <th>REALITY</th>\n",
              "      <th>NO_OF_CHILD</th>\n",
              "      <th>INCOME</th>\n",
              "      <th>INCOME_TYPE</th>\n",
              "      <th>EDUCATION_TYPE</th>\n",
              "      <th>FAMILY_TYPE</th>\n",
              "      <th>HOUSE_TYPE</th>\n",
              "      <th>FLAG_MOBIL</th>\n",
              "      <th>WORK_PHONE</th>\n",
              "      <th>PHONE</th>\n",
              "      <th>E_MAIL</th>\n",
              "      <th>FAMILY SIZE</th>\n",
              "      <th>BEGIN_MONTH</th>\n",
              "      <th>AGE</th>\n",
              "      <th>YEARS_EMPLOYED</th>\n",
              "      <th>TARGET</th>\n",
              "    </tr>\n",
              "  </thead>\n",
              "  <tbody>\n",
              "    <tr>\n",
              "      <th>0</th>\n",
              "      <td>0</td>\n",
              "      <td>5008806</td>\n",
              "      <td>M</td>\n",
              "      <td>Y</td>\n",
              "      <td>Y</td>\n",
              "      <td>0</td>\n",
              "      <td>112500.0</td>\n",
              "      <td>Working</td>\n",
              "      <td>Secondary / secondary special</td>\n",
              "      <td>Married</td>\n",
              "      <td>House / apartment</td>\n",
              "      <td>1</td>\n",
              "      <td>0</td>\n",
              "      <td>0</td>\n",
              "      <td>0</td>\n",
              "      <td>2.0</td>\n",
              "      <td>29</td>\n",
              "      <td>59</td>\n",
              "      <td>3</td>\n",
              "      <td>0</td>\n",
              "    </tr>\n",
              "    <tr>\n",
              "      <th>1</th>\n",
              "      <td>1</td>\n",
              "      <td>5008808</td>\n",
              "      <td>F</td>\n",
              "      <td>N</td>\n",
              "      <td>Y</td>\n",
              "      <td>0</td>\n",
              "      <td>270000.0</td>\n",
              "      <td>Commercial associate</td>\n",
              "      <td>Secondary / secondary special</td>\n",
              "      <td>Single / not married</td>\n",
              "      <td>House / apartment</td>\n",
              "      <td>1</td>\n",
              "      <td>0</td>\n",
              "      <td>1</td>\n",
              "      <td>1</td>\n",
              "      <td>1.0</td>\n",
              "      <td>4</td>\n",
              "      <td>52</td>\n",
              "      <td>8</td>\n",
              "      <td>0</td>\n",
              "    </tr>\n",
              "    <tr>\n",
              "      <th>2</th>\n",
              "      <td>2</td>\n",
              "      <td>5008809</td>\n",
              "      <td>F</td>\n",
              "      <td>N</td>\n",
              "      <td>Y</td>\n",
              "      <td>0</td>\n",
              "      <td>270000.0</td>\n",
              "      <td>Commercial associate</td>\n",
              "      <td>Secondary / secondary special</td>\n",
              "      <td>Single / not married</td>\n",
              "      <td>House / apartment</td>\n",
              "      <td>1</td>\n",
              "      <td>0</td>\n",
              "      <td>1</td>\n",
              "      <td>1</td>\n",
              "      <td>1.0</td>\n",
              "      <td>26</td>\n",
              "      <td>52</td>\n",
              "      <td>8</td>\n",
              "      <td>0</td>\n",
              "    </tr>\n",
              "    <tr>\n",
              "      <th>3</th>\n",
              "      <td>3</td>\n",
              "      <td>5008810</td>\n",
              "      <td>F</td>\n",
              "      <td>N</td>\n",
              "      <td>Y</td>\n",
              "      <td>0</td>\n",
              "      <td>270000.0</td>\n",
              "      <td>Commercial associate</td>\n",
              "      <td>Secondary / secondary special</td>\n",
              "      <td>Single / not married</td>\n",
              "      <td>House / apartment</td>\n",
              "      <td>1</td>\n",
              "      <td>0</td>\n",
              "      <td>1</td>\n",
              "      <td>1</td>\n",
              "      <td>1.0</td>\n",
              "      <td>26</td>\n",
              "      <td>52</td>\n",
              "      <td>8</td>\n",
              "      <td>0</td>\n",
              "    </tr>\n",
              "    <tr>\n",
              "      <th>4</th>\n",
              "      <td>4</td>\n",
              "      <td>5008811</td>\n",
              "      <td>F</td>\n",
              "      <td>N</td>\n",
              "      <td>Y</td>\n",
              "      <td>0</td>\n",
              "      <td>270000.0</td>\n",
              "      <td>Commercial associate</td>\n",
              "      <td>Secondary / secondary special</td>\n",
              "      <td>Single / not married</td>\n",
              "      <td>House / apartment</td>\n",
              "      <td>1</td>\n",
              "      <td>0</td>\n",
              "      <td>1</td>\n",
              "      <td>1</td>\n",
              "      <td>1.0</td>\n",
              "      <td>38</td>\n",
              "      <td>52</td>\n",
              "      <td>8</td>\n",
              "      <td>0</td>\n",
              "    </tr>\n",
              "    <tr>\n",
              "      <th>...</th>\n",
              "      <td>...</td>\n",
              "      <td>...</td>\n",
              "      <td>...</td>\n",
              "      <td>...</td>\n",
              "      <td>...</td>\n",
              "      <td>...</td>\n",
              "      <td>...</td>\n",
              "      <td>...</td>\n",
              "      <td>...</td>\n",
              "      <td>...</td>\n",
              "      <td>...</td>\n",
              "      <td>...</td>\n",
              "      <td>...</td>\n",
              "      <td>...</td>\n",
              "      <td>...</td>\n",
              "      <td>...</td>\n",
              "      <td>...</td>\n",
              "      <td>...</td>\n",
              "      <td>...</td>\n",
              "      <td>...</td>\n",
              "    </tr>\n",
              "    <tr>\n",
              "      <th>25129</th>\n",
              "      <td>25129</td>\n",
              "      <td>5149828</td>\n",
              "      <td>M</td>\n",
              "      <td>Y</td>\n",
              "      <td>Y</td>\n",
              "      <td>0</td>\n",
              "      <td>315000.0</td>\n",
              "      <td>Working</td>\n",
              "      <td>Secondary / secondary special</td>\n",
              "      <td>Married</td>\n",
              "      <td>House / apartment</td>\n",
              "      <td>1</td>\n",
              "      <td>0</td>\n",
              "      <td>0</td>\n",
              "      <td>0</td>\n",
              "      <td>2.0</td>\n",
              "      <td>11</td>\n",
              "      <td>48</td>\n",
              "      <td>7</td>\n",
              "      <td>1</td>\n",
              "    </tr>\n",
              "    <tr>\n",
              "      <th>25130</th>\n",
              "      <td>25130</td>\n",
              "      <td>5149834</td>\n",
              "      <td>F</td>\n",
              "      <td>N</td>\n",
              "      <td>Y</td>\n",
              "      <td>0</td>\n",
              "      <td>157500.0</td>\n",
              "      <td>Commercial associate</td>\n",
              "      <td>Higher education</td>\n",
              "      <td>Married</td>\n",
              "      <td>House / apartment</td>\n",
              "      <td>1</td>\n",
              "      <td>0</td>\n",
              "      <td>1</td>\n",
              "      <td>1</td>\n",
              "      <td>2.0</td>\n",
              "      <td>23</td>\n",
              "      <td>34</td>\n",
              "      <td>4</td>\n",
              "      <td>1</td>\n",
              "    </tr>\n",
              "    <tr>\n",
              "      <th>25131</th>\n",
              "      <td>25131</td>\n",
              "      <td>5149838</td>\n",
              "      <td>F</td>\n",
              "      <td>N</td>\n",
              "      <td>Y</td>\n",
              "      <td>0</td>\n",
              "      <td>157500.0</td>\n",
              "      <td>Pensioner</td>\n",
              "      <td>Higher education</td>\n",
              "      <td>Married</td>\n",
              "      <td>House / apartment</td>\n",
              "      <td>1</td>\n",
              "      <td>0</td>\n",
              "      <td>1</td>\n",
              "      <td>1</td>\n",
              "      <td>2.0</td>\n",
              "      <td>32</td>\n",
              "      <td>34</td>\n",
              "      <td>4</td>\n",
              "      <td>1</td>\n",
              "    </tr>\n",
              "    <tr>\n",
              "      <th>25132</th>\n",
              "      <td>25132</td>\n",
              "      <td>5150049</td>\n",
              "      <td>F</td>\n",
              "      <td>N</td>\n",
              "      <td>Y</td>\n",
              "      <td>0</td>\n",
              "      <td>283500.0</td>\n",
              "      <td>Working</td>\n",
              "      <td>Secondary / secondary special</td>\n",
              "      <td>Married</td>\n",
              "      <td>House / apartment</td>\n",
              "      <td>1</td>\n",
              "      <td>0</td>\n",
              "      <td>0</td>\n",
              "      <td>0</td>\n",
              "      <td>2.0</td>\n",
              "      <td>9</td>\n",
              "      <td>49</td>\n",
              "      <td>2</td>\n",
              "      <td>1</td>\n",
              "    </tr>\n",
              "    <tr>\n",
              "      <th>25133</th>\n",
              "      <td>25133</td>\n",
              "      <td>5150337</td>\n",
              "      <td>M</td>\n",
              "      <td>N</td>\n",
              "      <td>Y</td>\n",
              "      <td>0</td>\n",
              "      <td>112500.0</td>\n",
              "      <td>Working</td>\n",
              "      <td>Secondary / secondary special</td>\n",
              "      <td>Single / not married</td>\n",
              "      <td>Rented apartment</td>\n",
              "      <td>1</td>\n",
              "      <td>0</td>\n",
              "      <td>0</td>\n",
              "      <td>0</td>\n",
              "      <td>1.0</td>\n",
              "      <td>13</td>\n",
              "      <td>25</td>\n",
              "      <td>3</td>\n",
              "      <td>1</td>\n",
              "    </tr>\n",
              "  </tbody>\n",
              "</table>\n",
              "<p>25134 rows × 20 columns</p>\n",
              "</div>\n",
              "      <button class=\"colab-df-convert\" onclick=\"convertToInteractive('df-acaaafb7-5a84-4bdb-871b-fd9a38b05094')\"\n",
              "              title=\"Convert this dataframe to an interactive table.\"\n",
              "              style=\"display:none;\">\n",
              "\n",
              "  <svg xmlns=\"http://www.w3.org/2000/svg\" height=\"24px\"viewBox=\"0 0 24 24\"\n",
              "       width=\"24px\">\n",
              "    <path d=\"M0 0h24v24H0V0z\" fill=\"none\"/>\n",
              "    <path d=\"M18.56 5.44l.94 2.06.94-2.06 2.06-.94-2.06-.94-.94-2.06-.94 2.06-2.06.94zm-11 1L8.5 8.5l.94-2.06 2.06-.94-2.06-.94L8.5 2.5l-.94 2.06-2.06.94zm10 10l.94 2.06.94-2.06 2.06-.94-2.06-.94-.94-2.06-.94 2.06-2.06.94z\"/><path d=\"M17.41 7.96l-1.37-1.37c-.4-.4-.92-.59-1.43-.59-.52 0-1.04.2-1.43.59L10.3 9.45l-7.72 7.72c-.78.78-.78 2.05 0 2.83L4 21.41c.39.39.9.59 1.41.59.51 0 1.02-.2 1.41-.59l7.78-7.78 2.81-2.81c.8-.78.8-2.07 0-2.86zM5.41 20L4 18.59l7.72-7.72 1.47 1.35L5.41 20z\"/>\n",
              "  </svg>\n",
              "      </button>\n",
              "\n",
              "\n",
              "\n",
              "    <div id=\"df-1bd531a5-58bc-45b3-8062-e42780759d7c\">\n",
              "      <button class=\"colab-df-quickchart\" onclick=\"quickchart('df-1bd531a5-58bc-45b3-8062-e42780759d7c')\"\n",
              "              title=\"Suggest charts.\"\n",
              "              style=\"display:none;\">\n",
              "\n",
              "<svg xmlns=\"http://www.w3.org/2000/svg\" height=\"24px\"viewBox=\"0 0 24 24\"\n",
              "     width=\"24px\">\n",
              "    <g>\n",
              "        <path d=\"M19 3H5c-1.1 0-2 .9-2 2v14c0 1.1.9 2 2 2h14c1.1 0 2-.9 2-2V5c0-1.1-.9-2-2-2zM9 17H7v-7h2v7zm4 0h-2V7h2v10zm4 0h-2v-4h2v4z\"/>\n",
              "    </g>\n",
              "</svg>\n",
              "      </button>\n",
              "    </div>\n",
              "\n",
              "<style>\n",
              "  .colab-df-quickchart {\n",
              "    background-color: #E8F0FE;\n",
              "    border: none;\n",
              "    border-radius: 50%;\n",
              "    cursor: pointer;\n",
              "    display: none;\n",
              "    fill: #1967D2;\n",
              "    height: 32px;\n",
              "    padding: 0 0 0 0;\n",
              "    width: 32px;\n",
              "  }\n",
              "\n",
              "  .colab-df-quickchart:hover {\n",
              "    background-color: #E2EBFA;\n",
              "    box-shadow: 0px 1px 2px rgba(60, 64, 67, 0.3), 0px 1px 3px 1px rgba(60, 64, 67, 0.15);\n",
              "    fill: #174EA6;\n",
              "  }\n",
              "\n",
              "  [theme=dark] .colab-df-quickchart {\n",
              "    background-color: #3B4455;\n",
              "    fill: #D2E3FC;\n",
              "  }\n",
              "\n",
              "  [theme=dark] .colab-df-quickchart:hover {\n",
              "    background-color: #434B5C;\n",
              "    box-shadow: 0px 1px 3px 1px rgba(0, 0, 0, 0.15);\n",
              "    filter: drop-shadow(0px 1px 2px rgba(0, 0, 0, 0.3));\n",
              "    fill: #FFFFFF;\n",
              "  }\n",
              "</style>\n",
              "\n",
              "    <script>\n",
              "      async function quickchart(key) {\n",
              "        const containerElement = document.querySelector('#' + key);\n",
              "        const charts = await google.colab.kernel.invokeFunction(\n",
              "            'suggestCharts', [key], {});\n",
              "      }\n",
              "    </script>\n",
              "\n",
              "      <script>\n",
              "\n",
              "function displayQuickchartButton(domScope) {\n",
              "  let quickchartButtonEl =\n",
              "    domScope.querySelector('#df-1bd531a5-58bc-45b3-8062-e42780759d7c button.colab-df-quickchart');\n",
              "  quickchartButtonEl.style.display =\n",
              "    google.colab.kernel.accessAllowed ? 'block' : 'none';\n",
              "}\n",
              "\n",
              "        displayQuickchartButton(document);\n",
              "      </script>\n",
              "      <style>\n",
              "    .colab-df-container {\n",
              "      display:flex;\n",
              "      flex-wrap:wrap;\n",
              "      gap: 12px;\n",
              "    }\n",
              "\n",
              "    .colab-df-convert {\n",
              "      background-color: #E8F0FE;\n",
              "      border: none;\n",
              "      border-radius: 50%;\n",
              "      cursor: pointer;\n",
              "      display: none;\n",
              "      fill: #1967D2;\n",
              "      height: 32px;\n",
              "      padding: 0 0 0 0;\n",
              "      width: 32px;\n",
              "    }\n",
              "\n",
              "    .colab-df-convert:hover {\n",
              "      background-color: #E2EBFA;\n",
              "      box-shadow: 0px 1px 2px rgba(60, 64, 67, 0.3), 0px 1px 3px 1px rgba(60, 64, 67, 0.15);\n",
              "      fill: #174EA6;\n",
              "    }\n",
              "\n",
              "    [theme=dark] .colab-df-convert {\n",
              "      background-color: #3B4455;\n",
              "      fill: #D2E3FC;\n",
              "    }\n",
              "\n",
              "    [theme=dark] .colab-df-convert:hover {\n",
              "      background-color: #434B5C;\n",
              "      box-shadow: 0px 1px 3px 1px rgba(0, 0, 0, 0.15);\n",
              "      filter: drop-shadow(0px 1px 2px rgba(0, 0, 0, 0.3));\n",
              "      fill: #FFFFFF;\n",
              "    }\n",
              "  </style>\n",
              "\n",
              "      <script>\n",
              "        const buttonEl =\n",
              "          document.querySelector('#df-acaaafb7-5a84-4bdb-871b-fd9a38b05094 button.colab-df-convert');\n",
              "        buttonEl.style.display =\n",
              "          google.colab.kernel.accessAllowed ? 'block' : 'none';\n",
              "\n",
              "        async function convertToInteractive(key) {\n",
              "          const element = document.querySelector('#df-acaaafb7-5a84-4bdb-871b-fd9a38b05094');\n",
              "          const dataTable =\n",
              "            await google.colab.kernel.invokeFunction('convertToInteractive',\n",
              "                                                     [key], {});\n",
              "          if (!dataTable) return;\n",
              "\n",
              "          const docLinkHtml = 'Like what you see? Visit the ' +\n",
              "            '<a target=\"_blank\" href=https://colab.research.google.com/notebooks/data_table.ipynb>data table notebook</a>'\n",
              "            + ' to learn more about interactive tables.';\n",
              "          element.innerHTML = '';\n",
              "          dataTable['output_type'] = 'display_data';\n",
              "          await google.colab.output.renderOutput(dataTable, element);\n",
              "          const docLink = document.createElement('div');\n",
              "          docLink.innerHTML = docLinkHtml;\n",
              "          element.appendChild(docLink);\n",
              "        }\n",
              "      </script>\n",
              "    </div>\n",
              "  </div>\n"
            ],
            "text/plain": [
              "       Unnamed: 0       ID GENDER CAR REALITY  NO_OF_CHILD    INCOME  \\\n",
              "0               0  5008806      M   Y       Y            0  112500.0   \n",
              "1               1  5008808      F   N       Y            0  270000.0   \n",
              "2               2  5008809      F   N       Y            0  270000.0   \n",
              "3               3  5008810      F   N       Y            0  270000.0   \n",
              "4               4  5008811      F   N       Y            0  270000.0   \n",
              "...           ...      ...    ...  ..     ...          ...       ...   \n",
              "25129       25129  5149828      M   Y       Y            0  315000.0   \n",
              "25130       25130  5149834      F   N       Y            0  157500.0   \n",
              "25131       25131  5149838      F   N       Y            0  157500.0   \n",
              "25132       25132  5150049      F   N       Y            0  283500.0   \n",
              "25133       25133  5150337      M   N       Y            0  112500.0   \n",
              "\n",
              "                INCOME_TYPE                 EDUCATION_TYPE  \\\n",
              "0                   Working  Secondary / secondary special   \n",
              "1      Commercial associate  Secondary / secondary special   \n",
              "2      Commercial associate  Secondary / secondary special   \n",
              "3      Commercial associate  Secondary / secondary special   \n",
              "4      Commercial associate  Secondary / secondary special   \n",
              "...                     ...                            ...   \n",
              "25129               Working  Secondary / secondary special   \n",
              "25130  Commercial associate               Higher education   \n",
              "25131             Pensioner               Higher education   \n",
              "25132               Working  Secondary / secondary special   \n",
              "25133               Working  Secondary / secondary special   \n",
              "\n",
              "                FAMILY_TYPE         HOUSE_TYPE  FLAG_MOBIL  WORK_PHONE  PHONE  \\\n",
              "0                   Married  House / apartment           1           0      0   \n",
              "1      Single / not married  House / apartment           1           0      1   \n",
              "2      Single / not married  House / apartment           1           0      1   \n",
              "3      Single / not married  House / apartment           1           0      1   \n",
              "4      Single / not married  House / apartment           1           0      1   \n",
              "...                     ...                ...         ...         ...    ...   \n",
              "25129               Married  House / apartment           1           0      0   \n",
              "25130               Married  House / apartment           1           0      1   \n",
              "25131               Married  House / apartment           1           0      1   \n",
              "25132               Married  House / apartment           1           0      0   \n",
              "25133  Single / not married   Rented apartment           1           0      0   \n",
              "\n",
              "       E_MAIL  FAMILY SIZE  BEGIN_MONTH  AGE  YEARS_EMPLOYED  TARGET  \n",
              "0           0          2.0           29   59               3       0  \n",
              "1           1          1.0            4   52               8       0  \n",
              "2           1          1.0           26   52               8       0  \n",
              "3           1          1.0           26   52               8       0  \n",
              "4           1          1.0           38   52               8       0  \n",
              "...       ...          ...          ...  ...             ...     ...  \n",
              "25129       0          2.0           11   48               7       1  \n",
              "25130       1          2.0           23   34               4       1  \n",
              "25131       1          2.0           32   34               4       1  \n",
              "25132       0          2.0            9   49               2       1  \n",
              "25133       0          1.0           13   25               3       1  \n",
              "\n",
              "[25134 rows x 20 columns]"
            ]
          },
          "execution_count": 2,
          "metadata": {},
          "output_type": "execute_result"
        }
      ],
      "source": [
        "# read data\n",
        "df=pd.read_csv(\"/content/drive/MyDrive/luminar data/credit_dataset.csv\")\n",
        "df"
      ]
    },
    {
      "cell_type": "markdown",
      "metadata": {
        "id": "2xaRXMok1K6D"
      },
      "source": [
        "#**Data Preprocessing**"
      ]
    },
    {
      "cell_type": "code",
      "execution_count": 3,
      "metadata": {
        "colab": {
          "base_uri": "https://localhost:8080/"
        },
        "id": "3A3jfJO6ihfS",
        "outputId": "12bf1494-bb01-4f2c-9e3e-cea5e9e28604"
      },
      "outputs": [
        {
          "data": {
            "text/plain": [
              "0    24712\n",
              "1      422\n",
              "Name: TARGET, dtype: int64"
            ]
          },
          "execution_count": 3,
          "metadata": {},
          "output_type": "execute_result"
        }
      ],
      "source": [
        "# To Find data is imbalanced or not\n",
        "\n",
        "df[\"TARGET\"].value_counts()"
      ]
    },
    {
      "cell_type": "code",
      "execution_count": 4,
      "metadata": {
        "colab": {
          "base_uri": "https://localhost:8080/"
        },
        "id": "9ZOkgfxAiwNI",
        "outputId": "b44a25c6-9ad4-45af-d6d1-d22e45875ee5"
      },
      "outputs": [
        {
          "data": {
            "text/plain": [
              "Unnamed: 0        0\n",
              "ID                0\n",
              "GENDER            0\n",
              "CAR               0\n",
              "REALITY           0\n",
              "NO_OF_CHILD       0\n",
              "INCOME            0\n",
              "INCOME_TYPE       0\n",
              "EDUCATION_TYPE    0\n",
              "FAMILY_TYPE       0\n",
              "HOUSE_TYPE        0\n",
              "FLAG_MOBIL        0\n",
              "WORK_PHONE        0\n",
              "PHONE             0\n",
              "E_MAIL            0\n",
              "FAMILY SIZE       0\n",
              "BEGIN_MONTH       0\n",
              "AGE               0\n",
              "YEARS_EMPLOYED    0\n",
              "TARGET            0\n",
              "dtype: int64"
            ]
          },
          "execution_count": 4,
          "metadata": {},
          "output_type": "execute_result"
        }
      ],
      "source": [
        "# To find missing value\n",
        "df.isna().sum()"
      ]
    },
    {
      "cell_type": "code",
      "execution_count": 5,
      "metadata": {
        "colab": {
          "base_uri": "https://localhost:8080/"
        },
        "id": "35796XT4i0m0",
        "outputId": "7a942f37-8896-44cc-ac47-836fd62d0a62"
      },
      "outputs": [
        {
          "data": {
            "text/plain": [
              "Unnamed: 0          int64\n",
              "ID                  int64\n",
              "GENDER             object\n",
              "CAR                object\n",
              "REALITY            object\n",
              "NO_OF_CHILD         int64\n",
              "INCOME            float64\n",
              "INCOME_TYPE        object\n",
              "EDUCATION_TYPE     object\n",
              "FAMILY_TYPE        object\n",
              "HOUSE_TYPE         object\n",
              "FLAG_MOBIL          int64\n",
              "WORK_PHONE          int64\n",
              "PHONE               int64\n",
              "E_MAIL              int64\n",
              "FAMILY SIZE       float64\n",
              "BEGIN_MONTH         int64\n",
              "AGE                 int64\n",
              "YEARS_EMPLOYED      int64\n",
              "TARGET              int64\n",
              "dtype: object"
            ]
          },
          "execution_count": 5,
          "metadata": {},
          "output_type": "execute_result"
        }
      ],
      "source": [
        "# Find the Data types\n",
        "df.dtypes"
      ]
    },
    {
      "cell_type": "code",
      "execution_count": 6,
      "metadata": {
        "colab": {
          "base_uri": "https://localhost:8080/",
          "height": 364
        },
        "id": "NoOuMOr_4EB2",
        "outputId": "be951c17-ec95-4eed-cf60-3390ad079c37"
      },
      "outputs": [
        {
          "data": {
            "text/html": [
              "\n",
              "\n",
              "  <div id=\"df-ae2a8950-4c5a-4c1b-952f-cb7f28ab1568\">\n",
              "    <div class=\"colab-df-container\">\n",
              "      <div>\n",
              "<style scoped>\n",
              "    .dataframe tbody tr th:only-of-type {\n",
              "        vertical-align: middle;\n",
              "    }\n",
              "\n",
              "    .dataframe tbody tr th {\n",
              "        vertical-align: top;\n",
              "    }\n",
              "\n",
              "    .dataframe thead th {\n",
              "        text-align: right;\n",
              "    }\n",
              "</style>\n",
              "<table border=\"1\" class=\"dataframe\">\n",
              "  <thead>\n",
              "    <tr style=\"text-align: right;\">\n",
              "      <th></th>\n",
              "      <th>Unnamed: 0</th>\n",
              "      <th>ID</th>\n",
              "      <th>NO_OF_CHILD</th>\n",
              "      <th>INCOME</th>\n",
              "      <th>FLAG_MOBIL</th>\n",
              "      <th>WORK_PHONE</th>\n",
              "      <th>PHONE</th>\n",
              "      <th>E_MAIL</th>\n",
              "      <th>FAMILY SIZE</th>\n",
              "      <th>BEGIN_MONTH</th>\n",
              "      <th>AGE</th>\n",
              "      <th>YEARS_EMPLOYED</th>\n",
              "      <th>TARGET</th>\n",
              "    </tr>\n",
              "  </thead>\n",
              "  <tbody>\n",
              "    <tr>\n",
              "      <th>count</th>\n",
              "      <td>25134.000000</td>\n",
              "      <td>2.513400e+04</td>\n",
              "      <td>25134.000000</td>\n",
              "      <td>2.513400e+04</td>\n",
              "      <td>25134.0</td>\n",
              "      <td>25134.000000</td>\n",
              "      <td>25134.000000</td>\n",
              "      <td>25134.000000</td>\n",
              "      <td>25134.000000</td>\n",
              "      <td>25134.000000</td>\n",
              "      <td>25134.000000</td>\n",
              "      <td>25134.000000</td>\n",
              "      <td>25134.000000</td>\n",
              "    </tr>\n",
              "    <tr>\n",
              "      <th>mean</th>\n",
              "      <td>12566.500000</td>\n",
              "      <td>5.078838e+06</td>\n",
              "      <td>0.512334</td>\n",
              "      <td>1.948339e+05</td>\n",
              "      <td>1.0</td>\n",
              "      <td>0.273812</td>\n",
              "      <td>0.292791</td>\n",
              "      <td>0.100660</td>\n",
              "      <td>2.294064</td>\n",
              "      <td>26.120594</td>\n",
              "      <td>40.536166</td>\n",
              "      <td>7.204106</td>\n",
              "      <td>0.016790</td>\n",
              "    </tr>\n",
              "    <tr>\n",
              "      <th>std</th>\n",
              "      <td>7255.705169</td>\n",
              "      <td>4.194102e+04</td>\n",
              "      <td>0.787785</td>\n",
              "      <td>1.045110e+05</td>\n",
              "      <td>0.0</td>\n",
              "      <td>0.445923</td>\n",
              "      <td>0.455052</td>\n",
              "      <td>0.300885</td>\n",
              "      <td>0.947590</td>\n",
              "      <td>16.439658</td>\n",
              "      <td>9.559474</td>\n",
              "      <td>6.414231</td>\n",
              "      <td>0.128486</td>\n",
              "    </tr>\n",
              "    <tr>\n",
              "      <th>min</th>\n",
              "      <td>0.000000</td>\n",
              "      <td>5.008806e+06</td>\n",
              "      <td>0.000000</td>\n",
              "      <td>2.700000e+04</td>\n",
              "      <td>1.0</td>\n",
              "      <td>0.000000</td>\n",
              "      <td>0.000000</td>\n",
              "      <td>0.000000</td>\n",
              "      <td>1.000000</td>\n",
              "      <td>0.000000</td>\n",
              "      <td>21.000000</td>\n",
              "      <td>0.000000</td>\n",
              "      <td>0.000000</td>\n",
              "    </tr>\n",
              "    <tr>\n",
              "      <th>25%</th>\n",
              "      <td>6283.250000</td>\n",
              "      <td>5.042228e+06</td>\n",
              "      <td>0.000000</td>\n",
              "      <td>1.350000e+05</td>\n",
              "      <td>1.0</td>\n",
              "      <td>0.000000</td>\n",
              "      <td>0.000000</td>\n",
              "      <td>0.000000</td>\n",
              "      <td>2.000000</td>\n",
              "      <td>12.000000</td>\n",
              "      <td>33.000000</td>\n",
              "      <td>3.000000</td>\n",
              "      <td>0.000000</td>\n",
              "    </tr>\n",
              "    <tr>\n",
              "      <th>50%</th>\n",
              "      <td>12566.500000</td>\n",
              "      <td>5.079004e+06</td>\n",
              "      <td>0.000000</td>\n",
              "      <td>1.800000e+05</td>\n",
              "      <td>1.0</td>\n",
              "      <td>0.000000</td>\n",
              "      <td>0.000000</td>\n",
              "      <td>0.000000</td>\n",
              "      <td>2.000000</td>\n",
              "      <td>24.000000</td>\n",
              "      <td>40.000000</td>\n",
              "      <td>5.000000</td>\n",
              "      <td>0.000000</td>\n",
              "    </tr>\n",
              "    <tr>\n",
              "      <th>75%</th>\n",
              "      <td>18849.750000</td>\n",
              "      <td>5.115604e+06</td>\n",
              "      <td>1.000000</td>\n",
              "      <td>2.250000e+05</td>\n",
              "      <td>1.0</td>\n",
              "      <td>1.000000</td>\n",
              "      <td>1.000000</td>\n",
              "      <td>0.000000</td>\n",
              "      <td>3.000000</td>\n",
              "      <td>39.000000</td>\n",
              "      <td>48.000000</td>\n",
              "      <td>10.000000</td>\n",
              "      <td>0.000000</td>\n",
              "    </tr>\n",
              "    <tr>\n",
              "      <th>max</th>\n",
              "      <td>25133.000000</td>\n",
              "      <td>5.150487e+06</td>\n",
              "      <td>19.000000</td>\n",
              "      <td>1.575000e+06</td>\n",
              "      <td>1.0</td>\n",
              "      <td>1.000000</td>\n",
              "      <td>1.000000</td>\n",
              "      <td>1.000000</td>\n",
              "      <td>20.000000</td>\n",
              "      <td>60.000000</td>\n",
              "      <td>67.000000</td>\n",
              "      <td>43.000000</td>\n",
              "      <td>1.000000</td>\n",
              "    </tr>\n",
              "  </tbody>\n",
              "</table>\n",
              "</div>\n",
              "      <button class=\"colab-df-convert\" onclick=\"convertToInteractive('df-ae2a8950-4c5a-4c1b-952f-cb7f28ab1568')\"\n",
              "              title=\"Convert this dataframe to an interactive table.\"\n",
              "              style=\"display:none;\">\n",
              "\n",
              "  <svg xmlns=\"http://www.w3.org/2000/svg\" height=\"24px\"viewBox=\"0 0 24 24\"\n",
              "       width=\"24px\">\n",
              "    <path d=\"M0 0h24v24H0V0z\" fill=\"none\"/>\n",
              "    <path d=\"M18.56 5.44l.94 2.06.94-2.06 2.06-.94-2.06-.94-.94-2.06-.94 2.06-2.06.94zm-11 1L8.5 8.5l.94-2.06 2.06-.94-2.06-.94L8.5 2.5l-.94 2.06-2.06.94zm10 10l.94 2.06.94-2.06 2.06-.94-2.06-.94-.94-2.06-.94 2.06-2.06.94z\"/><path d=\"M17.41 7.96l-1.37-1.37c-.4-.4-.92-.59-1.43-.59-.52 0-1.04.2-1.43.59L10.3 9.45l-7.72 7.72c-.78.78-.78 2.05 0 2.83L4 21.41c.39.39.9.59 1.41.59.51 0 1.02-.2 1.41-.59l7.78-7.78 2.81-2.81c.8-.78.8-2.07 0-2.86zM5.41 20L4 18.59l7.72-7.72 1.47 1.35L5.41 20z\"/>\n",
              "  </svg>\n",
              "      </button>\n",
              "\n",
              "\n",
              "\n",
              "    <div id=\"df-0f10dc9e-deaf-4e39-a585-df7637229082\">\n",
              "      <button class=\"colab-df-quickchart\" onclick=\"quickchart('df-0f10dc9e-deaf-4e39-a585-df7637229082')\"\n",
              "              title=\"Suggest charts.\"\n",
              "              style=\"display:none;\">\n",
              "\n",
              "<svg xmlns=\"http://www.w3.org/2000/svg\" height=\"24px\"viewBox=\"0 0 24 24\"\n",
              "     width=\"24px\">\n",
              "    <g>\n",
              "        <path d=\"M19 3H5c-1.1 0-2 .9-2 2v14c0 1.1.9 2 2 2h14c1.1 0 2-.9 2-2V5c0-1.1-.9-2-2-2zM9 17H7v-7h2v7zm4 0h-2V7h2v10zm4 0h-2v-4h2v4z\"/>\n",
              "    </g>\n",
              "</svg>\n",
              "      </button>\n",
              "    </div>\n",
              "\n",
              "<style>\n",
              "  .colab-df-quickchart {\n",
              "    background-color: #E8F0FE;\n",
              "    border: none;\n",
              "    border-radius: 50%;\n",
              "    cursor: pointer;\n",
              "    display: none;\n",
              "    fill: #1967D2;\n",
              "    height: 32px;\n",
              "    padding: 0 0 0 0;\n",
              "    width: 32px;\n",
              "  }\n",
              "\n",
              "  .colab-df-quickchart:hover {\n",
              "    background-color: #E2EBFA;\n",
              "    box-shadow: 0px 1px 2px rgba(60, 64, 67, 0.3), 0px 1px 3px 1px rgba(60, 64, 67, 0.15);\n",
              "    fill: #174EA6;\n",
              "  }\n",
              "\n",
              "  [theme=dark] .colab-df-quickchart {\n",
              "    background-color: #3B4455;\n",
              "    fill: #D2E3FC;\n",
              "  }\n",
              "\n",
              "  [theme=dark] .colab-df-quickchart:hover {\n",
              "    background-color: #434B5C;\n",
              "    box-shadow: 0px 1px 3px 1px rgba(0, 0, 0, 0.15);\n",
              "    filter: drop-shadow(0px 1px 2px rgba(0, 0, 0, 0.3));\n",
              "    fill: #FFFFFF;\n",
              "  }\n",
              "</style>\n",
              "\n",
              "    <script>\n",
              "      async function quickchart(key) {\n",
              "        const containerElement = document.querySelector('#' + key);\n",
              "        const charts = await google.colab.kernel.invokeFunction(\n",
              "            'suggestCharts', [key], {});\n",
              "      }\n",
              "    </script>\n",
              "\n",
              "      <script>\n",
              "\n",
              "function displayQuickchartButton(domScope) {\n",
              "  let quickchartButtonEl =\n",
              "    domScope.querySelector('#df-0f10dc9e-deaf-4e39-a585-df7637229082 button.colab-df-quickchart');\n",
              "  quickchartButtonEl.style.display =\n",
              "    google.colab.kernel.accessAllowed ? 'block' : 'none';\n",
              "}\n",
              "\n",
              "        displayQuickchartButton(document);\n",
              "      </script>\n",
              "      <style>\n",
              "    .colab-df-container {\n",
              "      display:flex;\n",
              "      flex-wrap:wrap;\n",
              "      gap: 12px;\n",
              "    }\n",
              "\n",
              "    .colab-df-convert {\n",
              "      background-color: #E8F0FE;\n",
              "      border: none;\n",
              "      border-radius: 50%;\n",
              "      cursor: pointer;\n",
              "      display: none;\n",
              "      fill: #1967D2;\n",
              "      height: 32px;\n",
              "      padding: 0 0 0 0;\n",
              "      width: 32px;\n",
              "    }\n",
              "\n",
              "    .colab-df-convert:hover {\n",
              "      background-color: #E2EBFA;\n",
              "      box-shadow: 0px 1px 2px rgba(60, 64, 67, 0.3), 0px 1px 3px 1px rgba(60, 64, 67, 0.15);\n",
              "      fill: #174EA6;\n",
              "    }\n",
              "\n",
              "    [theme=dark] .colab-df-convert {\n",
              "      background-color: #3B4455;\n",
              "      fill: #D2E3FC;\n",
              "    }\n",
              "\n",
              "    [theme=dark] .colab-df-convert:hover {\n",
              "      background-color: #434B5C;\n",
              "      box-shadow: 0px 1px 3px 1px rgba(0, 0, 0, 0.15);\n",
              "      filter: drop-shadow(0px 1px 2px rgba(0, 0, 0, 0.3));\n",
              "      fill: #FFFFFF;\n",
              "    }\n",
              "  </style>\n",
              "\n",
              "      <script>\n",
              "        const buttonEl =\n",
              "          document.querySelector('#df-ae2a8950-4c5a-4c1b-952f-cb7f28ab1568 button.colab-df-convert');\n",
              "        buttonEl.style.display =\n",
              "          google.colab.kernel.accessAllowed ? 'block' : 'none';\n",
              "\n",
              "        async function convertToInteractive(key) {\n",
              "          const element = document.querySelector('#df-ae2a8950-4c5a-4c1b-952f-cb7f28ab1568');\n",
              "          const dataTable =\n",
              "            await google.colab.kernel.invokeFunction('convertToInteractive',\n",
              "                                                     [key], {});\n",
              "          if (!dataTable) return;\n",
              "\n",
              "          const docLinkHtml = 'Like what you see? Visit the ' +\n",
              "            '<a target=\"_blank\" href=https://colab.research.google.com/notebooks/data_table.ipynb>data table notebook</a>'\n",
              "            + ' to learn more about interactive tables.';\n",
              "          element.innerHTML = '';\n",
              "          dataTable['output_type'] = 'display_data';\n",
              "          await google.colab.output.renderOutput(dataTable, element);\n",
              "          const docLink = document.createElement('div');\n",
              "          docLink.innerHTML = docLinkHtml;\n",
              "          element.appendChild(docLink);\n",
              "        }\n",
              "      </script>\n",
              "    </div>\n",
              "  </div>\n"
            ],
            "text/plain": [
              "         Unnamed: 0            ID   NO_OF_CHILD        INCOME  FLAG_MOBIL  \\\n",
              "count  25134.000000  2.513400e+04  25134.000000  2.513400e+04     25134.0   \n",
              "mean   12566.500000  5.078838e+06      0.512334  1.948339e+05         1.0   \n",
              "std     7255.705169  4.194102e+04      0.787785  1.045110e+05         0.0   \n",
              "min        0.000000  5.008806e+06      0.000000  2.700000e+04         1.0   \n",
              "25%     6283.250000  5.042228e+06      0.000000  1.350000e+05         1.0   \n",
              "50%    12566.500000  5.079004e+06      0.000000  1.800000e+05         1.0   \n",
              "75%    18849.750000  5.115604e+06      1.000000  2.250000e+05         1.0   \n",
              "max    25133.000000  5.150487e+06     19.000000  1.575000e+06         1.0   \n",
              "\n",
              "         WORK_PHONE         PHONE        E_MAIL   FAMILY SIZE   BEGIN_MONTH  \\\n",
              "count  25134.000000  25134.000000  25134.000000  25134.000000  25134.000000   \n",
              "mean       0.273812      0.292791      0.100660      2.294064     26.120594   \n",
              "std        0.445923      0.455052      0.300885      0.947590     16.439658   \n",
              "min        0.000000      0.000000      0.000000      1.000000      0.000000   \n",
              "25%        0.000000      0.000000      0.000000      2.000000     12.000000   \n",
              "50%        0.000000      0.000000      0.000000      2.000000     24.000000   \n",
              "75%        1.000000      1.000000      0.000000      3.000000     39.000000   \n",
              "max        1.000000      1.000000      1.000000     20.000000     60.000000   \n",
              "\n",
              "                AGE  YEARS_EMPLOYED        TARGET  \n",
              "count  25134.000000    25134.000000  25134.000000  \n",
              "mean      40.536166        7.204106      0.016790  \n",
              "std        9.559474        6.414231      0.128486  \n",
              "min       21.000000        0.000000      0.000000  \n",
              "25%       33.000000        3.000000      0.000000  \n",
              "50%       40.000000        5.000000      0.000000  \n",
              "75%       48.000000       10.000000      0.000000  \n",
              "max       67.000000       43.000000      1.000000  "
            ]
          },
          "execution_count": 6,
          "metadata": {},
          "output_type": "execute_result"
        }
      ],
      "source": [
        "df.describe()"
      ]
    },
    {
      "cell_type": "code",
      "execution_count": 7,
      "metadata": {
        "colab": {
          "base_uri": "https://localhost:8080/",
          "height": 817
        },
        "id": "nVpcKGq5i5sm",
        "outputId": "3937e305-5d67-485a-bbc5-ca6981d469d1"
      },
      "outputs": [
        {
          "data": {
            "text/html": [
              "\n",
              "\n",
              "  <div id=\"df-edc8393d-7144-4b74-897c-979940432c17\">\n",
              "    <div class=\"colab-df-container\">\n",
              "      <div>\n",
              "<style scoped>\n",
              "    .dataframe tbody tr th:only-of-type {\n",
              "        vertical-align: middle;\n",
              "    }\n",
              "\n",
              "    .dataframe tbody tr th {\n",
              "        vertical-align: top;\n",
              "    }\n",
              "\n",
              "    .dataframe thead th {\n",
              "        text-align: right;\n",
              "    }\n",
              "</style>\n",
              "<table border=\"1\" class=\"dataframe\">\n",
              "  <thead>\n",
              "    <tr style=\"text-align: right;\">\n",
              "      <th></th>\n",
              "      <th>GENDER</th>\n",
              "      <th>CAR</th>\n",
              "      <th>REALITY</th>\n",
              "      <th>NO_OF_CHILD</th>\n",
              "      <th>INCOME</th>\n",
              "      <th>INCOME_TYPE</th>\n",
              "      <th>EDUCATION_TYPE</th>\n",
              "      <th>FAMILY_TYPE</th>\n",
              "      <th>HOUSE_TYPE</th>\n",
              "      <th>WORK_PHONE</th>\n",
              "      <th>PHONE</th>\n",
              "      <th>E_MAIL</th>\n",
              "      <th>FAMILY SIZE</th>\n",
              "      <th>BEGIN_MONTH</th>\n",
              "      <th>AGE</th>\n",
              "      <th>YEARS_EMPLOYED</th>\n",
              "      <th>TARGET</th>\n",
              "    </tr>\n",
              "  </thead>\n",
              "  <tbody>\n",
              "    <tr>\n",
              "      <th>0</th>\n",
              "      <td>M</td>\n",
              "      <td>Y</td>\n",
              "      <td>Y</td>\n",
              "      <td>0</td>\n",
              "      <td>112500.0</td>\n",
              "      <td>Working</td>\n",
              "      <td>Secondary / secondary special</td>\n",
              "      <td>Married</td>\n",
              "      <td>House / apartment</td>\n",
              "      <td>0</td>\n",
              "      <td>0</td>\n",
              "      <td>0</td>\n",
              "      <td>2.0</td>\n",
              "      <td>29</td>\n",
              "      <td>59</td>\n",
              "      <td>3</td>\n",
              "      <td>0</td>\n",
              "    </tr>\n",
              "    <tr>\n",
              "      <th>1</th>\n",
              "      <td>F</td>\n",
              "      <td>N</td>\n",
              "      <td>Y</td>\n",
              "      <td>0</td>\n",
              "      <td>270000.0</td>\n",
              "      <td>Commercial associate</td>\n",
              "      <td>Secondary / secondary special</td>\n",
              "      <td>Single / not married</td>\n",
              "      <td>House / apartment</td>\n",
              "      <td>0</td>\n",
              "      <td>1</td>\n",
              "      <td>1</td>\n",
              "      <td>1.0</td>\n",
              "      <td>4</td>\n",
              "      <td>52</td>\n",
              "      <td>8</td>\n",
              "      <td>0</td>\n",
              "    </tr>\n",
              "    <tr>\n",
              "      <th>2</th>\n",
              "      <td>F</td>\n",
              "      <td>N</td>\n",
              "      <td>Y</td>\n",
              "      <td>0</td>\n",
              "      <td>270000.0</td>\n",
              "      <td>Commercial associate</td>\n",
              "      <td>Secondary / secondary special</td>\n",
              "      <td>Single / not married</td>\n",
              "      <td>House / apartment</td>\n",
              "      <td>0</td>\n",
              "      <td>1</td>\n",
              "      <td>1</td>\n",
              "      <td>1.0</td>\n",
              "      <td>26</td>\n",
              "      <td>52</td>\n",
              "      <td>8</td>\n",
              "      <td>0</td>\n",
              "    </tr>\n",
              "    <tr>\n",
              "      <th>3</th>\n",
              "      <td>F</td>\n",
              "      <td>N</td>\n",
              "      <td>Y</td>\n",
              "      <td>0</td>\n",
              "      <td>270000.0</td>\n",
              "      <td>Commercial associate</td>\n",
              "      <td>Secondary / secondary special</td>\n",
              "      <td>Single / not married</td>\n",
              "      <td>House / apartment</td>\n",
              "      <td>0</td>\n",
              "      <td>1</td>\n",
              "      <td>1</td>\n",
              "      <td>1.0</td>\n",
              "      <td>26</td>\n",
              "      <td>52</td>\n",
              "      <td>8</td>\n",
              "      <td>0</td>\n",
              "    </tr>\n",
              "    <tr>\n",
              "      <th>4</th>\n",
              "      <td>F</td>\n",
              "      <td>N</td>\n",
              "      <td>Y</td>\n",
              "      <td>0</td>\n",
              "      <td>270000.0</td>\n",
              "      <td>Commercial associate</td>\n",
              "      <td>Secondary / secondary special</td>\n",
              "      <td>Single / not married</td>\n",
              "      <td>House / apartment</td>\n",
              "      <td>0</td>\n",
              "      <td>1</td>\n",
              "      <td>1</td>\n",
              "      <td>1.0</td>\n",
              "      <td>38</td>\n",
              "      <td>52</td>\n",
              "      <td>8</td>\n",
              "      <td>0</td>\n",
              "    </tr>\n",
              "    <tr>\n",
              "      <th>...</th>\n",
              "      <td>...</td>\n",
              "      <td>...</td>\n",
              "      <td>...</td>\n",
              "      <td>...</td>\n",
              "      <td>...</td>\n",
              "      <td>...</td>\n",
              "      <td>...</td>\n",
              "      <td>...</td>\n",
              "      <td>...</td>\n",
              "      <td>...</td>\n",
              "      <td>...</td>\n",
              "      <td>...</td>\n",
              "      <td>...</td>\n",
              "      <td>...</td>\n",
              "      <td>...</td>\n",
              "      <td>...</td>\n",
              "      <td>...</td>\n",
              "    </tr>\n",
              "    <tr>\n",
              "      <th>25129</th>\n",
              "      <td>M</td>\n",
              "      <td>Y</td>\n",
              "      <td>Y</td>\n",
              "      <td>0</td>\n",
              "      <td>315000.0</td>\n",
              "      <td>Working</td>\n",
              "      <td>Secondary / secondary special</td>\n",
              "      <td>Married</td>\n",
              "      <td>House / apartment</td>\n",
              "      <td>0</td>\n",
              "      <td>0</td>\n",
              "      <td>0</td>\n",
              "      <td>2.0</td>\n",
              "      <td>11</td>\n",
              "      <td>48</td>\n",
              "      <td>7</td>\n",
              "      <td>1</td>\n",
              "    </tr>\n",
              "    <tr>\n",
              "      <th>25130</th>\n",
              "      <td>F</td>\n",
              "      <td>N</td>\n",
              "      <td>Y</td>\n",
              "      <td>0</td>\n",
              "      <td>157500.0</td>\n",
              "      <td>Commercial associate</td>\n",
              "      <td>Higher education</td>\n",
              "      <td>Married</td>\n",
              "      <td>House / apartment</td>\n",
              "      <td>0</td>\n",
              "      <td>1</td>\n",
              "      <td>1</td>\n",
              "      <td>2.0</td>\n",
              "      <td>23</td>\n",
              "      <td>34</td>\n",
              "      <td>4</td>\n",
              "      <td>1</td>\n",
              "    </tr>\n",
              "    <tr>\n",
              "      <th>25131</th>\n",
              "      <td>F</td>\n",
              "      <td>N</td>\n",
              "      <td>Y</td>\n",
              "      <td>0</td>\n",
              "      <td>157500.0</td>\n",
              "      <td>Pensioner</td>\n",
              "      <td>Higher education</td>\n",
              "      <td>Married</td>\n",
              "      <td>House / apartment</td>\n",
              "      <td>0</td>\n",
              "      <td>1</td>\n",
              "      <td>1</td>\n",
              "      <td>2.0</td>\n",
              "      <td>32</td>\n",
              "      <td>34</td>\n",
              "      <td>4</td>\n",
              "      <td>1</td>\n",
              "    </tr>\n",
              "    <tr>\n",
              "      <th>25132</th>\n",
              "      <td>F</td>\n",
              "      <td>N</td>\n",
              "      <td>Y</td>\n",
              "      <td>0</td>\n",
              "      <td>283500.0</td>\n",
              "      <td>Working</td>\n",
              "      <td>Secondary / secondary special</td>\n",
              "      <td>Married</td>\n",
              "      <td>House / apartment</td>\n",
              "      <td>0</td>\n",
              "      <td>0</td>\n",
              "      <td>0</td>\n",
              "      <td>2.0</td>\n",
              "      <td>9</td>\n",
              "      <td>49</td>\n",
              "      <td>2</td>\n",
              "      <td>1</td>\n",
              "    </tr>\n",
              "    <tr>\n",
              "      <th>25133</th>\n",
              "      <td>M</td>\n",
              "      <td>N</td>\n",
              "      <td>Y</td>\n",
              "      <td>0</td>\n",
              "      <td>112500.0</td>\n",
              "      <td>Working</td>\n",
              "      <td>Secondary / secondary special</td>\n",
              "      <td>Single / not married</td>\n",
              "      <td>Rented apartment</td>\n",
              "      <td>0</td>\n",
              "      <td>0</td>\n",
              "      <td>0</td>\n",
              "      <td>1.0</td>\n",
              "      <td>13</td>\n",
              "      <td>25</td>\n",
              "      <td>3</td>\n",
              "      <td>1</td>\n",
              "    </tr>\n",
              "  </tbody>\n",
              "</table>\n",
              "<p>25134 rows × 17 columns</p>\n",
              "</div>\n",
              "      <button class=\"colab-df-convert\" onclick=\"convertToInteractive('df-edc8393d-7144-4b74-897c-979940432c17')\"\n",
              "              title=\"Convert this dataframe to an interactive table.\"\n",
              "              style=\"display:none;\">\n",
              "\n",
              "  <svg xmlns=\"http://www.w3.org/2000/svg\" height=\"24px\"viewBox=\"0 0 24 24\"\n",
              "       width=\"24px\">\n",
              "    <path d=\"M0 0h24v24H0V0z\" fill=\"none\"/>\n",
              "    <path d=\"M18.56 5.44l.94 2.06.94-2.06 2.06-.94-2.06-.94-.94-2.06-.94 2.06-2.06.94zm-11 1L8.5 8.5l.94-2.06 2.06-.94-2.06-.94L8.5 2.5l-.94 2.06-2.06.94zm10 10l.94 2.06.94-2.06 2.06-.94-2.06-.94-.94-2.06-.94 2.06-2.06.94z\"/><path d=\"M17.41 7.96l-1.37-1.37c-.4-.4-.92-.59-1.43-.59-.52 0-1.04.2-1.43.59L10.3 9.45l-7.72 7.72c-.78.78-.78 2.05 0 2.83L4 21.41c.39.39.9.59 1.41.59.51 0 1.02-.2 1.41-.59l7.78-7.78 2.81-2.81c.8-.78.8-2.07 0-2.86zM5.41 20L4 18.59l7.72-7.72 1.47 1.35L5.41 20z\"/>\n",
              "  </svg>\n",
              "      </button>\n",
              "\n",
              "\n",
              "\n",
              "    <div id=\"df-81734362-bb63-4118-91df-0186aa68b60d\">\n",
              "      <button class=\"colab-df-quickchart\" onclick=\"quickchart('df-81734362-bb63-4118-91df-0186aa68b60d')\"\n",
              "              title=\"Suggest charts.\"\n",
              "              style=\"display:none;\">\n",
              "\n",
              "<svg xmlns=\"http://www.w3.org/2000/svg\" height=\"24px\"viewBox=\"0 0 24 24\"\n",
              "     width=\"24px\">\n",
              "    <g>\n",
              "        <path d=\"M19 3H5c-1.1 0-2 .9-2 2v14c0 1.1.9 2 2 2h14c1.1 0 2-.9 2-2V5c0-1.1-.9-2-2-2zM9 17H7v-7h2v7zm4 0h-2V7h2v10zm4 0h-2v-4h2v4z\"/>\n",
              "    </g>\n",
              "</svg>\n",
              "      </button>\n",
              "    </div>\n",
              "\n",
              "<style>\n",
              "  .colab-df-quickchart {\n",
              "    background-color: #E8F0FE;\n",
              "    border: none;\n",
              "    border-radius: 50%;\n",
              "    cursor: pointer;\n",
              "    display: none;\n",
              "    fill: #1967D2;\n",
              "    height: 32px;\n",
              "    padding: 0 0 0 0;\n",
              "    width: 32px;\n",
              "  }\n",
              "\n",
              "  .colab-df-quickchart:hover {\n",
              "    background-color: #E2EBFA;\n",
              "    box-shadow: 0px 1px 2px rgba(60, 64, 67, 0.3), 0px 1px 3px 1px rgba(60, 64, 67, 0.15);\n",
              "    fill: #174EA6;\n",
              "  }\n",
              "\n",
              "  [theme=dark] .colab-df-quickchart {\n",
              "    background-color: #3B4455;\n",
              "    fill: #D2E3FC;\n",
              "  }\n",
              "\n",
              "  [theme=dark] .colab-df-quickchart:hover {\n",
              "    background-color: #434B5C;\n",
              "    box-shadow: 0px 1px 3px 1px rgba(0, 0, 0, 0.15);\n",
              "    filter: drop-shadow(0px 1px 2px rgba(0, 0, 0, 0.3));\n",
              "    fill: #FFFFFF;\n",
              "  }\n",
              "</style>\n",
              "\n",
              "    <script>\n",
              "      async function quickchart(key) {\n",
              "        const containerElement = document.querySelector('#' + key);\n",
              "        const charts = await google.colab.kernel.invokeFunction(\n",
              "            'suggestCharts', [key], {});\n",
              "      }\n",
              "    </script>\n",
              "\n",
              "      <script>\n",
              "\n",
              "function displayQuickchartButton(domScope) {\n",
              "  let quickchartButtonEl =\n",
              "    domScope.querySelector('#df-81734362-bb63-4118-91df-0186aa68b60d button.colab-df-quickchart');\n",
              "  quickchartButtonEl.style.display =\n",
              "    google.colab.kernel.accessAllowed ? 'block' : 'none';\n",
              "}\n",
              "\n",
              "        displayQuickchartButton(document);\n",
              "      </script>\n",
              "      <style>\n",
              "    .colab-df-container {\n",
              "      display:flex;\n",
              "      flex-wrap:wrap;\n",
              "      gap: 12px;\n",
              "    }\n",
              "\n",
              "    .colab-df-convert {\n",
              "      background-color: #E8F0FE;\n",
              "      border: none;\n",
              "      border-radius: 50%;\n",
              "      cursor: pointer;\n",
              "      display: none;\n",
              "      fill: #1967D2;\n",
              "      height: 32px;\n",
              "      padding: 0 0 0 0;\n",
              "      width: 32px;\n",
              "    }\n",
              "\n",
              "    .colab-df-convert:hover {\n",
              "      background-color: #E2EBFA;\n",
              "      box-shadow: 0px 1px 2px rgba(60, 64, 67, 0.3), 0px 1px 3px 1px rgba(60, 64, 67, 0.15);\n",
              "      fill: #174EA6;\n",
              "    }\n",
              "\n",
              "    [theme=dark] .colab-df-convert {\n",
              "      background-color: #3B4455;\n",
              "      fill: #D2E3FC;\n",
              "    }\n",
              "\n",
              "    [theme=dark] .colab-df-convert:hover {\n",
              "      background-color: #434B5C;\n",
              "      box-shadow: 0px 1px 3px 1px rgba(0, 0, 0, 0.15);\n",
              "      filter: drop-shadow(0px 1px 2px rgba(0, 0, 0, 0.3));\n",
              "      fill: #FFFFFF;\n",
              "    }\n",
              "  </style>\n",
              "\n",
              "      <script>\n",
              "        const buttonEl =\n",
              "          document.querySelector('#df-edc8393d-7144-4b74-897c-979940432c17 button.colab-df-convert');\n",
              "        buttonEl.style.display =\n",
              "          google.colab.kernel.accessAllowed ? 'block' : 'none';\n",
              "\n",
              "        async function convertToInteractive(key) {\n",
              "          const element = document.querySelector('#df-edc8393d-7144-4b74-897c-979940432c17');\n",
              "          const dataTable =\n",
              "            await google.colab.kernel.invokeFunction('convertToInteractive',\n",
              "                                                     [key], {});\n",
              "          if (!dataTable) return;\n",
              "\n",
              "          const docLinkHtml = 'Like what you see? Visit the ' +\n",
              "            '<a target=\"_blank\" href=https://colab.research.google.com/notebooks/data_table.ipynb>data table notebook</a>'\n",
              "            + ' to learn more about interactive tables.';\n",
              "          element.innerHTML = '';\n",
              "          dataTable['output_type'] = 'display_data';\n",
              "          await google.colab.output.renderOutput(dataTable, element);\n",
              "          const docLink = document.createElement('div');\n",
              "          docLink.innerHTML = docLinkHtml;\n",
              "          element.appendChild(docLink);\n",
              "        }\n",
              "      </script>\n",
              "    </div>\n",
              "  </div>\n"
            ],
            "text/plain": [
              "      GENDER CAR REALITY  NO_OF_CHILD    INCOME           INCOME_TYPE  \\\n",
              "0          M   Y       Y            0  112500.0               Working   \n",
              "1          F   N       Y            0  270000.0  Commercial associate   \n",
              "2          F   N       Y            0  270000.0  Commercial associate   \n",
              "3          F   N       Y            0  270000.0  Commercial associate   \n",
              "4          F   N       Y            0  270000.0  Commercial associate   \n",
              "...      ...  ..     ...          ...       ...                   ...   \n",
              "25129      M   Y       Y            0  315000.0               Working   \n",
              "25130      F   N       Y            0  157500.0  Commercial associate   \n",
              "25131      F   N       Y            0  157500.0             Pensioner   \n",
              "25132      F   N       Y            0  283500.0               Working   \n",
              "25133      M   N       Y            0  112500.0               Working   \n",
              "\n",
              "                      EDUCATION_TYPE           FAMILY_TYPE         HOUSE_TYPE  \\\n",
              "0      Secondary / secondary special               Married  House / apartment   \n",
              "1      Secondary / secondary special  Single / not married  House / apartment   \n",
              "2      Secondary / secondary special  Single / not married  House / apartment   \n",
              "3      Secondary / secondary special  Single / not married  House / apartment   \n",
              "4      Secondary / secondary special  Single / not married  House / apartment   \n",
              "...                              ...                   ...                ...   \n",
              "25129  Secondary / secondary special               Married  House / apartment   \n",
              "25130               Higher education               Married  House / apartment   \n",
              "25131               Higher education               Married  House / apartment   \n",
              "25132  Secondary / secondary special               Married  House / apartment   \n",
              "25133  Secondary / secondary special  Single / not married   Rented apartment   \n",
              "\n",
              "       WORK_PHONE  PHONE  E_MAIL  FAMILY SIZE  BEGIN_MONTH  AGE  \\\n",
              "0               0      0       0          2.0           29   59   \n",
              "1               0      1       1          1.0            4   52   \n",
              "2               0      1       1          1.0           26   52   \n",
              "3               0      1       1          1.0           26   52   \n",
              "4               0      1       1          1.0           38   52   \n",
              "...           ...    ...     ...          ...          ...  ...   \n",
              "25129           0      0       0          2.0           11   48   \n",
              "25130           0      1       1          2.0           23   34   \n",
              "25131           0      1       1          2.0           32   34   \n",
              "25132           0      0       0          2.0            9   49   \n",
              "25133           0      0       0          1.0           13   25   \n",
              "\n",
              "       YEARS_EMPLOYED  TARGET  \n",
              "0                   3       0  \n",
              "1                   8       0  \n",
              "2                   8       0  \n",
              "3                   8       0  \n",
              "4                   8       0  \n",
              "...               ...     ...  \n",
              "25129               7       1  \n",
              "25130               4       1  \n",
              "25131               4       1  \n",
              "25132               2       1  \n",
              "25133               3       1  \n",
              "\n",
              "[25134 rows x 17 columns]"
            ]
          },
          "execution_count": 7,
          "metadata": {},
          "output_type": "execute_result"
        }
      ],
      "source": [
        "# droping the unwanted features\n",
        "df.drop([\"Unnamed: 0\",\"ID\",\"FLAG_MOBIL\"],axis=1,inplace=True)\n",
        "df"
      ]
    },
    {
      "cell_type": "code",
      "execution_count": 8,
      "metadata": {
        "colab": {
          "base_uri": "https://localhost:8080/",
          "height": 501
        },
        "id": "h0E2ORhCicne",
        "outputId": "c4d52bff-3190-4727-9ed2-f62012f69465"
      },
      "outputs": [
        {
          "name": "stdout",
          "output_type": "stream",
          "text": [
            "0    24712\n",
            "1      422\n",
            "Name: TARGET, dtype: int64\n"
          ]
        },
        {
          "data": {
            "image/png": "[encoded data removed]",
            "text/plain": [
              "<Figure size 640x480 with 1 Axes>"
            ]
          },
          "metadata": {},
          "output_type": "display_data"
        }
      ],
      "source": [
        "# visualization of target variable\n",
        "\n",
        "import seaborn as sns\n",
        "import matplotlib.pyplot as plt\n",
        "\n",
        "sns.countplot(x=\"TARGET\",data=df)\n",
        "print(df[\"TARGET\"].value_counts())"
      ]
    },
    {
      "cell_type": "code",
      "execution_count": 9,
      "metadata": {
        "colab": {
          "base_uri": "https://localhost:8080/",
          "height": 458
        },
        "id": "3G92dIIHlBID",
        "outputId": "2e83202e-f953-4fe5-b2ae-1e25bfaa5bda"
      },
      "outputs": [
        {
          "name": "stdout",
          "output_type": "stream",
          "text": [
            "0    24712\n",
            "1      422\n",
            "Name: TARGET, dtype: int64\n"
          ]
        },
        {
          "data": {
            "image/png": "[encoded data removed]",
            "text/plain": [
              "<Figure size 640x480 with 1 Axes>"
            ]
          },
          "metadata": {},
          "output_type": "display_data"
        }
      ],
      "source": [
        "# pie chart\n",
        "import matplotlib.pyplot as plt\n",
        "\n",
        "z= df[\"TARGET\"].value_counts()\n",
        "print(z)\n",
        "fraud = [\"Not Fraud\", \"Fraud\"]\n",
        "\n",
        "plt.pie(z, labels=fraud,autopct='%1.2f%%',shadow=True)\n",
        "plt.legend()\n",
        "plt.show()\n"
      ]
    },
    {
      "cell_type": "code",
      "execution_count": 10,
      "metadata": {
        "id": "ZtaQFBjEoqi7"
      },
      "outputs": [],
      "source": [
        "# labels = [\"Not Fraud\", \"Fraud\"]\n",
        "# sizes = df[\"TARGET\"].value_counts()\n",
        "\n",
        "# # Create the pie chart\n",
        "# fig, ax = plt.subplots()\n",
        "# ax.pie(sizes, labels=labels, autopct='%1.1f%%', startangle=90)\n",
        "# ax.axis('equal')  # Equal aspect ratio ensures that pie is drawn as a circle\n",
        "# plt.title('Pie Chart Example')\n",
        "\n",
        "# # Display the chart in Streamlit app\n",
        "# st.pyplot(fig)"
      ]
    },
    {
      "cell_type": "code",
      "execution_count": 11,
      "metadata": {
        "id": "cS8n18K06W6J"
      },
      "outputs": [],
      "source": [
        "# sns.pairplot(df)"
      ]
    },
    {
      "cell_type": "code",
      "execution_count": 12,
      "metadata": {
        "colab": {
          "base_uri": "https://localhost:8080/",
          "height": 468
        },
        "id": "HQMbVro_7TMF",
        "outputId": "8edb4624-3c74-4f7f-ab2e-3ff6b0cbffba"
      },
      "outputs": [
        {
          "data": {
            "text/plain": [
              "<Axes: xlabel='TARGET', ylabel='count'>"
            ]
          },
          "execution_count": 12,
          "metadata": {},
          "output_type": "execute_result"
        },
        {
          "data": {
            "image/png": "[encoded data removed]",
            "text/plain": [
              "<Figure size 640x480 with 1 Axes>"
            ]
          },
          "metadata": {},
          "output_type": "display_data"
        }
      ],
      "source": [
        "sns.countplot(x=\"TARGET\",data=df,hue=\"GENDER\")"
      ]
    },
    {
      "cell_type": "code",
      "execution_count": 13,
      "metadata": {
        "id": "SqRfWSbn9isf"
      },
      "outputs": [],
      "source": [
        "# sns.boxplot(x=\"TARGET\",y=\"INCOME\",data=df)"
      ]
    },
    {
      "cell_type": "code",
      "execution_count": 14,
      "metadata": {
        "colab": {
          "base_uri": "https://localhost:8080/"
        },
        "id": "E9qIiQSWoWWX",
        "outputId": "0f07954d-1c11-48a8-f2c1-7368fb6e3f2e"
      },
      "outputs": [
        {
          "data": {
            "text/plain": [
              "GENDER             object\n",
              "CAR                object\n",
              "REALITY            object\n",
              "NO_OF_CHILD         int64\n",
              "INCOME            float64\n",
              "INCOME_TYPE        object\n",
              "EDUCATION_TYPE     object\n",
              "FAMILY_TYPE        object\n",
              "HOUSE_TYPE         object\n",
              "WORK_PHONE          int64\n",
              "PHONE               int64\n",
              "E_MAIL              int64\n",
              "FAMILY SIZE       float64\n",
              "BEGIN_MONTH         int64\n",
              "AGE                 int64\n",
              "YEARS_EMPLOYED      int64\n",
              "TARGET              int64\n",
              "dtype: object"
            ]
          },
          "execution_count": 14,
          "metadata": {},
          "output_type": "execute_result"
        }
      ],
      "source": [
        "df.dtypes"
      ]
    },
    {
      "cell_type": "code",
      "execution_count": 15,
      "metadata": {
        "id": "EchQHBuIlhT0"
      },
      "outputs": [],
      "source": [
        "# changing the data types into integer using LabelEncoder\n",
        "from sklearn.preprocessing import LabelEncoder\n",
        "le=LabelEncoder()\n",
        "lst=[\"GENDER\",\"CAR\",\"REALITY\",\"INCOME_TYPE\",\"EDUCATION_TYPE\",\"FAMILY_TYPE\",\"HOUSE_TYPE\"]\n",
        "for i in lst:\n",
        "  df[i]=le.fit_transform(df[i])\n"
      ]
    },
    {
      "cell_type": "code",
      "execution_count": 16,
      "metadata": {
        "id": "s3j3Nx_vl2f_"
      },
      "outputs": [],
      "source": [
        "# df.isna().sum()"
      ]
    },
    {
      "cell_type": "code",
      "execution_count": 17,
      "metadata": {
        "id": "zwU1Lw_umqT_"
      },
      "outputs": [],
      "source": [
        "X=df.iloc[:,:-1]\n",
        "\n",
        "y=df.iloc[:,-1]\n"
      ]
    },
    {
      "cell_type": "markdown",
      "metadata": {
        "id": "7B5vfRnElauj"
      },
      "source": [
        "**Scaling**"
      ]
    },
    {
      "cell_type": "code",
      "execution_count": 18,
      "metadata": {
        "id": "n_eDOfDZm8wk"
      },
      "outputs": [],
      "source": [
        "#Scaling used by minmaxscaler\n",
        "from sklearn.preprocessing import MinMaxScaler\n",
        "mms=MinMaxScaler()\n",
        "X=mms.fit_transform(X)"
      ]
    },
    {
      "cell_type": "code",
      "execution_count": 19,
      "metadata": {
        "id": "NILRJjQvnOEw"
      },
      "outputs": [],
      "source": [
        "# train test split\n",
        "from sklearn.model_selection import train_test_split\n",
        "X_train,X_test,y_train,y_test=train_test_split(X,y,test_size=0.3,random_state=1)"
      ]
    },
    {
      "cell_type": "code",
      "execution_count": 19,
      "metadata": {
        "id": "KjcoM53k1fE0"
      },
      "outputs": [],
      "source": []
    },
    {
      "cell_type": "markdown",
      "metadata": {
        "id": "YghROsjZ1q9X"
      },
      "source": [
        "\n",
        "#**Model Building**\n"
      ]
    },
    {
      "cell_type": "code",
      "execution_count": 20,
      "metadata": {
        "colab": {
          "base_uri": "https://localhost:8080/"
        },
        "id": "YqQDZSLX6xeo",
        "outputId": "e4e6f8c0-7113-4d1d-933a-1f1439c9ef8c"
      },
      "outputs": [
        {
          "name": "stdout",
          "output_type": "stream",
          "text": [
            "____________________________________________________________________________________________________\n",
            "******************** KNeighborsClassifier ********************\n",
            "              precision    recall  f1-score   support\n",
            "\n",
            "           0       0.99      1.00      0.99      7427\n",
            "           1       0.29      0.04      0.06       114\n",
            "\n",
            "    accuracy                           0.98      7541\n",
            "   macro avg       0.64      0.52      0.53      7541\n",
            "weighted avg       0.97      0.98      0.98      7541\n",
            "\n",
            "____________________________________________________________________________________________________\n",
            "******************** SVC ********************\n",
            "              precision    recall  f1-score   support\n",
            "\n",
            "           0       0.98      1.00      0.99      7427\n",
            "           1       0.00      0.00      0.00       114\n",
            "\n",
            "    accuracy                           0.98      7541\n",
            "   macro avg       0.49      0.50      0.50      7541\n",
            "weighted avg       0.97      0.98      0.98      7541\n",
            "\n",
            "____________________________________________________________________________________________________\n",
            "******************** GaussianNB ********************\n",
            "              precision    recall  f1-score   support\n",
            "\n",
            "           0       0.98      1.00      0.99      7427\n",
            "           1       0.00      0.00      0.00       114\n",
            "\n",
            "    accuracy                           0.98      7541\n",
            "   macro avg       0.49      0.50      0.50      7541\n",
            "weighted avg       0.97      0.98      0.98      7541\n",
            "\n",
            "____________________________________________________________________________________________________\n",
            "******************** DecisionTreeClassifier ********************\n",
            "              precision    recall  f1-score   support\n",
            "\n",
            "           0       0.99      0.98      0.98      7427\n",
            "           1       0.14      0.22      0.17       114\n",
            "\n",
            "    accuracy                           0.97      7541\n",
            "   macro avg       0.56      0.60      0.58      7541\n",
            "weighted avg       0.98      0.97      0.97      7541\n",
            "\n",
            "____________________________________________________________________________________________________\n",
            "******************** AdaBoostClassifier ********************\n",
            "              precision    recall  f1-score   support\n",
            "\n",
            "           0       0.98      1.00      0.99      7427\n",
            "           1       0.00      0.00      0.00       114\n",
            "\n",
            "    accuracy                           0.98      7541\n",
            "   macro avg       0.49      0.50      0.50      7541\n",
            "weighted avg       0.97      0.98      0.98      7541\n",
            "\n",
            "____________________________________________________________________________________________________\n",
            "******************** GradientBoostingClassifier ********************\n",
            "              precision    recall  f1-score   support\n",
            "\n",
            "           0       0.99      1.00      0.99      7427\n",
            "           1       0.60      0.03      0.05       114\n",
            "\n",
            "    accuracy                           0.99      7541\n",
            "   macro avg       0.79      0.51      0.52      7541\n",
            "weighted avg       0.98      0.99      0.98      7541\n",
            "\n",
            "____________________________________________________________________________________________________\n",
            "******************** XGBRFClassifier ********************\n",
            "              precision    recall  f1-score   support\n",
            "\n",
            "           0       0.98      1.00      0.99      7427\n",
            "           1       0.00      0.00      0.00       114\n",
            "\n",
            "    accuracy                           0.98      7541\n",
            "   macro avg       0.49      0.50      0.50      7541\n",
            "weighted avg       0.97      0.98      0.98      7541\n",
            "\n",
            "____________________________________________________________________________________________________\n",
            "******************** RandomForestClassifier ********************\n",
            "              precision    recall  f1-score   support\n",
            "\n",
            "           0       0.99      1.00      0.99      7427\n",
            "           1       0.38      0.11      0.18       114\n",
            "\n",
            "    accuracy                           0.98      7541\n",
            "   macro avg       0.68      0.56      0.58      7541\n",
            "weighted avg       0.98      0.98      0.98      7541\n",
            "\n"
          ]
        }
      ],
      "source": [
        "# Model Building\n",
        "import warnings\n",
        "warnings.filterwarnings(\"ignore\")\n",
        "\n",
        "from sklearn.neighbors import KNeighborsClassifier\n",
        "from sklearn.svm import SVC\n",
        "from sklearn.naive_bayes import GaussianNB\n",
        "from sklearn.tree import DecisionTreeClassifier\n",
        "from sklearn.ensemble import RandomForestClassifier\n",
        "from sklearn.ensemble import AdaBoostClassifier\n",
        "from sklearn.ensemble import GradientBoostingClassifier\n",
        "from xgboost import XGBRFClassifier\n",
        "\n",
        "from sklearn.metrics import ConfusionMatrixDisplay, classification_report,accuracy_score\n",
        "\n",
        "knn = KNeighborsClassifier()\n",
        "svc = SVC()\n",
        "nb = GaussianNB()\n",
        "de = DecisionTreeClassifier()\n",
        "ad = AdaBoostClassifier()\n",
        "gb = GradientBoostingClassifier()\n",
        "xb = XGBRFClassifier()\n",
        "rf = RandomForestClassifier()\n",
        "\n",
        "lst1 = [knn, svc, nb, de, ad, gb, xb, rf]\n",
        "accuracy_without_sampling=[]\n",
        "\n",
        "for i in lst1:\n",
        "    print(\"_\" * 100)\n",
        "    print(\"*\" * 20,i.__class__.__name__, \"*\" * 20)\n",
        "    i.fit(X_train,y_train)\n",
        "    y_pred = i.predict(X_test)\n",
        "    # print(ConfusionMatrixDisplay.from_predictions(y_test,y_pred))\n",
        "    print(classification_report(y_test,y_pred))\n",
        "    accuracy=accuracy_score(y_test,y_pred)\n",
        "    # accuracy_without_sampling.append(f\"{i.__class__.__name__}: {accuracy}\")\n",
        "    accuracy_without_sampling.append(accuracy)\n",
        "\n",
        "\n"
      ]
    },
    {
      "cell_type": "code",
      "execution_count": 20,
      "metadata": {
        "id": "CPGNYWjmPO1y"
      },
      "outputs": [],
      "source": []
    },
    {
      "cell_type": "markdown",
      "metadata": {
        "id": "8cobAh7jM01s"
      },
      "source": [
        "Accuracy is high but Precision and Recall is very less.therefore the data is imbalanced"
      ]
    },
    {
      "cell_type": "markdown",
      "metadata": {
        "id": "ZEt_7DW8vxfN"
      },
      "source": []
    },
    {
      "cell_type": "code",
      "execution_count": 21,
      "metadata": {
        "id": "jCe2Vm3qHyuP"
      },
      "outputs": [],
      "source": [
        "# from sklearn.model_selection import GridSearchCV\n",
        "# from sklearn.ensemble import RandomForestClassifier\n",
        "\n",
        "# rf = RandomForestClassifier()\n",
        "\n",
        "# param_grid = {\n",
        "#     'n_estimators': [i for i in range(10,21)],\n",
        "#     'max_features': ['sqrt', 'log2'],\n",
        "#     'criterion': ['gini', 'entropy']\n",
        "# }\n",
        "\n",
        "# clf = GridSearchCV(rf, param_grid, cv=5, scoring='accuracy')\n",
        "# clf.fit(X_train, y_train)\n",
        "\n",
        "# print(clf.best_params_)"
      ]
    },
    {
      "cell_type": "code",
      "execution_count": 22,
      "metadata": {
        "id": "E4dgnIgiQLIZ"
      },
      "outputs": [],
      "source": [
        "# pd.DataFrame(accuracy_without_sampling)"
      ]
    },
    {
      "cell_type": "code",
      "execution_count": 23,
      "metadata": {
        "colab": {
          "base_uri": "https://localhost:8080/",
          "height": 300
        },
        "id": "K9AUY7iuy2yc",
        "outputId": "9616fc7e-3273-4a0c-aa32-858efd7cf82d"
      },
      "outputs": [
        {
          "data": {
            "text/html": [
              "<style type=\"text/css\">\n",
              "#T_bb4ed_row5_col1 {\n",
              "  background-color: lightgreen;\n",
              "}\n",
              "</style>\n",
              "<table id=\"T_bb4ed\" class=\"dataframe\">\n",
              "  <thead>\n",
              "    <tr>\n",
              "      <th class=\"blank level0\" >&nbsp;</th>\n",
              "      <th id=\"T_bb4ed_level0_col0\" class=\"col_heading level0 col0\" >Algorithm</th>\n",
              "      <th id=\"T_bb4ed_level0_col1\" class=\"col_heading level0 col1\" >Accuracy_Without_Sampling</th>\n",
              "    </tr>\n",
              "  </thead>\n",
              "  <tbody>\n",
              "    <tr>\n",
              "      <th id=\"T_bb4ed_level0_row0\" class=\"row_heading level0 row0\" >0</th>\n",
              "      <td id=\"T_bb4ed_row0_col0\" class=\"data row0 col0\" >KNeighborsClassifier</td>\n",
              "      <td id=\"T_bb4ed_row0_col1\" class=\"data row0 col1\" >0.984087</td>\n",
              "    </tr>\n",
              "    <tr>\n",
              "      <th id=\"T_bb4ed_level0_row1\" class=\"row_heading level0 row1\" >1</th>\n",
              "      <td id=\"T_bb4ed_row1_col0\" class=\"data row1 col0\" >SVC</td>\n",
              "      <td id=\"T_bb4ed_row1_col1\" class=\"data row1 col1\" >0.984883</td>\n",
              "    </tr>\n",
              "    <tr>\n",
              "      <th id=\"T_bb4ed_level0_row2\" class=\"row_heading level0 row2\" >2</th>\n",
              "      <td id=\"T_bb4ed_row2_col0\" class=\"data row2 col0\" >GaussianNB</td>\n",
              "      <td id=\"T_bb4ed_row2_col1\" class=\"data row2 col1\" >0.984617</td>\n",
              "    </tr>\n",
              "    <tr>\n",
              "      <th id=\"T_bb4ed_level0_row3\" class=\"row_heading level0 row3\" >3</th>\n",
              "      <td id=\"T_bb4ed_row3_col0\" class=\"data row3 col0\" >DecisionTreeClassifier</td>\n",
              "      <td id=\"T_bb4ed_row3_col1\" class=\"data row3 col1\" >0.967909</td>\n",
              "    </tr>\n",
              "    <tr>\n",
              "      <th id=\"T_bb4ed_level0_row4\" class=\"row_heading level0 row4\" >4</th>\n",
              "      <td id=\"T_bb4ed_row4_col0\" class=\"data row4 col0\" >AdaBoostClassifier</td>\n",
              "      <td id=\"T_bb4ed_row4_col1\" class=\"data row4 col1\" >0.984883</td>\n",
              "    </tr>\n",
              "    <tr>\n",
              "      <th id=\"T_bb4ed_level0_row5\" class=\"row_heading level0 row5\" >5</th>\n",
              "      <td id=\"T_bb4ed_row5_col0\" class=\"data row5 col0\" >GradientBoostingClassifier</td>\n",
              "      <td id=\"T_bb4ed_row5_col1\" class=\"data row5 col1\" >0.985015</td>\n",
              "    </tr>\n",
              "    <tr>\n",
              "      <th id=\"T_bb4ed_level0_row6\" class=\"row_heading level0 row6\" >6</th>\n",
              "      <td id=\"T_bb4ed_row6_col0\" class=\"data row6 col0\" >XGBRFClassifier</td>\n",
              "      <td id=\"T_bb4ed_row6_col1\" class=\"data row6 col1\" >0.984883</td>\n",
              "    </tr>\n",
              "    <tr>\n",
              "      <th id=\"T_bb4ed_level0_row7\" class=\"row_heading level0 row7\" >7</th>\n",
              "      <td id=\"T_bb4ed_row7_col0\" class=\"data row7 col0\" >RandomForestClassifier</td>\n",
              "      <td id=\"T_bb4ed_row7_col1\" class=\"data row7 col1\" >0.983822</td>\n",
              "    </tr>\n",
              "  </tbody>\n",
              "</table>\n"
            ],
            "text/plain": [
              "<pandas.io.formats.style.Styler at 0x7d40026345e0>"
            ]
          },
          "execution_count": 23,
          "metadata": {},
          "output_type": "execute_result"
        }
      ],
      "source": [
        "# highlight the highest accuracy\n",
        "accuracy_Without_sample = pd.DataFrame({\n",
        "    \"Algorithm\": [\"KNeighborsClassifier\", \"SVC\", \"GaussianNB\", \"DecisionTreeClassifier\",\"AdaBoostClassifier\", \"GradientBoostingClassifier\", \"XGBRFClassifier\", \"RandomForestClassifier\"],\n",
        "    \"Accuracy_Without_Sampling\": accuracy_without_sampling})\n",
        "accuracy_Without_sample\n",
        "accuracy_Without_sample.style.highlight_max(subset=[\"Accuracy_Without_Sampling\"], color='lightgreen', axis=0)"
      ]
    },
    {
      "cell_type": "markdown",
      "metadata": {
        "id": "ldv96unb0k96"
      },
      "source": [
        "\n",
        "\n",
        "#**LazyClassifier**\n",
        "\n",
        "LazyClassifier is a Python library that simplifies training and evaluating multiple machine learning models, providing an easy way to compare their performance on a dataset in just one line of code.\n",
        "\n"
      ]
    },
    {
      "cell_type": "code",
      "execution_count": 24,
      "metadata": {
        "id": "ey-SCfVX9c91"
      },
      "outputs": [],
      "source": [
        "# pip install lazypredict"
      ]
    },
    {
      "cell_type": "code",
      "execution_count": 25,
      "metadata": {
        "id": "7oi4ijFB9X68"
      },
      "outputs": [],
      "source": [
        "# from lazypredict.Supervised import LazyClassifier"
      ]
    },
    {
      "cell_type": "code",
      "execution_count": 26,
      "metadata": {
        "id": "zV1Ob93l0UdT"
      },
      "outputs": [],
      "source": [
        "# clf=LazyClassifier(verbose=0,ignore_warnings=True,custom_metric=None)\n",
        "# models,predictions=clf.fit(X_train,X_test,y_train,y_test)\n",
        "# models"
      ]
    },
    {
      "cell_type": "code",
      "execution_count": 26,
      "metadata": {
        "id": "Rg4Sedesv7Ix"
      },
      "outputs": [],
      "source": []
    },
    {
      "cell_type": "markdown",
      "metadata": {
        "id": "yGUe-pVEjge8"
      },
      "source": [
        "#**Feature Selection**\n",
        "Feature selection is the process of selecting a subset of relevant features from a larger set of available features in a dataset.<br>Removing irrelevant or redundant features, and focusing on the most informative ones."
      ]
    },
    {
      "cell_type": "code",
      "execution_count": 27,
      "metadata": {
        "colab": {
          "base_uri": "https://localhost:8080/",
          "height": 1000
        },
        "id": "t-ncCXcokFZh",
        "outputId": "54a16988-dc3a-48b1-8fe0-206f4ddacee0"
      },
      "outputs": [
        {
          "data": {
            "text/plain": [
              "<Axes: >"
            ]
          },
          "execution_count": 27,
          "metadata": {},
          "output_type": "execute_result"
        },
        {
          "data": {
            "image/png": "[encoded data removed]",
            "text/plain": [
              "<Figure size 1500x1500 with 2 Axes>"
            ]
          },
          "metadata": {},
          "output_type": "display_data"
        }
      ],
      "source": [
        "import seaborn as sns\n",
        "import matplotlib.pyplot as plt\n",
        "plt.figure(figsize=(15,15))\n",
        "sns.heatmap(df.corr(),annot=True)"
      ]
    },
    {
      "cell_type": "code",
      "execution_count": 28,
      "metadata": {
        "id": "sBSA0CnMkJj1"
      },
      "outputs": [],
      "source": [
        "df.drop([\"NO_OF_CHILD\"],axis=1,inplace=True)"
      ]
    },
    {
      "cell_type": "code",
      "execution_count": 29,
      "metadata": {
        "id": "a6mD0sLnkSl1"
      },
      "outputs": [],
      "source": [
        "df.to_csv('edited_credict.csv', index=False)"
      ]
    },
    {
      "cell_type": "markdown",
      "metadata": {
        "id": "bKOYehGhQs1Q"
      },
      "source": [
        "The data is imbalanced  the we use the Resampling Techniques\n",
        "\n",
        "\n",
        "1.   Over Sampling\n",
        "2.   Under Sampling\n",
        "3.   SMOTEENN\n",
        "\n",
        "\n",
        "\n",
        "\n",
        "\n",
        "\n",
        "\n",
        "\n",
        "\n",
        "\n"
      ]
    },
    {
      "cell_type": "markdown",
      "metadata": {
        "id": "vZ9DeeBi9siU"
      },
      "source": [
        "#**Over Sampling**\n",
        "Oversampling is a technique used to address class imbalance in a dataset by increasing the number of samples in the minority class"
      ]
    },
    {
      "cell_type": "code",
      "execution_count": 30,
      "metadata": {
        "id": "b88dUcTEV08J"
      },
      "outputs": [],
      "source": [
        "X=df.iloc[:,:-1]\n",
        "\n",
        "y=df.iloc[:,-1]"
      ]
    },
    {
      "cell_type": "code",
      "execution_count": 31,
      "metadata": {
        "id": "jNhZMfPCoed0"
      },
      "outputs": [],
      "source": [
        "# Oversampling using SMOTE (Synthetic Minority Over-sampling Technique)\n",
        "from imblearn.over_sampling import SMOTE\n",
        "os=SMOTE(random_state=1)\n",
        "X_os,y_os=os.fit_resample(X,y)\n"
      ]
    },
    {
      "cell_type": "code",
      "execution_count": 32,
      "metadata": {
        "colab": {
          "base_uri": "https://localhost:8080/",
          "height": 501
        },
        "id": "PJ4_ETkTl_Jz",
        "outputId": "f0bcb896-eff0-40e7-ee91-2a710649c9ed"
      },
      "outputs": [
        {
          "name": "stdout",
          "output_type": "stream",
          "text": [
            "0    24712\n",
            "1    24712\n",
            "Name: TARGET, dtype: int64\n"
          ]
        },
        {
          "data": {
            "image/png": "[encoded data removed]",
            "text/plain": [
              "<Figure size 640x480 with 1 Axes>"
            ]
          },
          "metadata": {},
          "output_type": "display_data"
        }
      ],
      "source": [
        "# countplot\n",
        "import seaborn as sns\n",
        "import matplotlib.pyplot as plt\n",
        "\n",
        "sns.countplot(x=y_os,data=df)\n",
        "print(y_os.value_counts())"
      ]
    },
    {
      "cell_type": "code",
      "execution_count": 33,
      "metadata": {
        "colab": {
          "base_uri": "https://localhost:8080/",
          "height": 458
        },
        "id": "GV6rOOxylvN1",
        "outputId": "fa86f855-a1f0-4fbf-d967-1a0aca52deda"
      },
      "outputs": [
        {
          "name": "stdout",
          "output_type": "stream",
          "text": [
            "0    24712\n",
            "1    24712\n",
            "Name: TARGET, dtype: int64\n"
          ]
        },
        {
          "data": {
            "image/png": "[encoded data removed]",
            "text/plain": [
              "<Figure size 640x480 with 1 Axes>"
            ]
          },
          "metadata": {},
          "output_type": "display_data"
        }
      ],
      "source": [
        "# pie chart\n",
        "import matplotlib.pyplot as plt\n",
        "\n",
        "z = y_os.value_counts()\n",
        "print(z)\n",
        "fraud = [\"Not Fraud\", \"Fraud\"]\n",
        "\n",
        "plt.pie(z, labels=fraud,autopct='%1.1f%%',shadow=True)\n",
        "plt.legend()\n",
        "plt.show()"
      ]
    },
    {
      "cell_type": "code",
      "execution_count": 34,
      "metadata": {
        "colab": {
          "base_uri": "https://localhost:8080/"
        },
        "id": "ulyPlBKQwion",
        "outputId": "5ff1e1bd-b14b-45c3-e2d9-de166b135fd0"
      },
      "outputs": [
        {
          "data": {
            "text/plain": [
              "0    24712\n",
              "1    24712\n",
              "Name: TARGET, dtype: int64"
            ]
          },
          "execution_count": 34,
          "metadata": {},
          "output_type": "execute_result"
        }
      ],
      "source": [
        "y_os.value_counts()"
      ]
    },
    {
      "cell_type": "code",
      "execution_count": 35,
      "metadata": {
        "id": "FYV_QmcxsWYe"
      },
      "outputs": [],
      "source": [
        "# scaling\n",
        "X_os=mms.fit_transform(X_os)\n"
      ]
    },
    {
      "cell_type": "code",
      "execution_count": 36,
      "metadata": {
        "id": "qtyeDR_HrdHe"
      },
      "outputs": [],
      "source": [
        "# train test split\n",
        "from sklearn.model_selection import train_test_split\n",
        "X_train,X_test,y_train,y_test=train_test_split(X_os,y_os,test_size=0.3,random_state=1)"
      ]
    },
    {
      "cell_type": "code",
      "execution_count": 37,
      "metadata": {
        "colab": {
          "base_uri": "https://localhost:8080/"
        },
        "id": "AFBkTT1kr-vT",
        "outputId": "c35a03bc-bd7b-48da-8b3f-fb34c4cdf3fb"
      },
      "outputs": [
        {
          "name": "stdout",
          "output_type": "stream",
          "text": [
            "____________________________________________________________________________________________________\n",
            "******************** KNeighborsClassifier ********************\n",
            "              precision    recall  f1-score   support\n",
            "\n",
            "           0       0.98      0.90      0.94      7521\n",
            "           1       0.91      0.98      0.94      7307\n",
            "\n",
            "    accuracy                           0.94     14828\n",
            "   macro avg       0.94      0.94      0.94     14828\n",
            "weighted avg       0.95      0.94      0.94     14828\n",
            "\n",
            "____________________________________________________________________________________________________\n",
            "******************** SVC ********************\n",
            "              precision    recall  f1-score   support\n",
            "\n",
            "           0       0.89      0.81      0.85      7521\n",
            "           1       0.82      0.89      0.86      7307\n",
            "\n",
            "    accuracy                           0.85     14828\n",
            "   macro avg       0.85      0.85      0.85     14828\n",
            "weighted avg       0.85      0.85      0.85     14828\n",
            "\n",
            "____________________________________________________________________________________________________\n",
            "******************** GaussianNB ********************\n",
            "              precision    recall  f1-score   support\n",
            "\n",
            "           0       0.77      0.58      0.66      7521\n",
            "           1       0.66      0.83      0.73      7307\n",
            "\n",
            "    accuracy                           0.70     14828\n",
            "   macro avg       0.72      0.70      0.70     14828\n",
            "weighted avg       0.72      0.70      0.70     14828\n",
            "\n",
            "____________________________________________________________________________________________________\n",
            "******************** DecisionTreeClassifier ********************\n",
            "              precision    recall  f1-score   support\n",
            "\n",
            "           0       0.98      0.97      0.97      7521\n",
            "           1       0.97      0.98      0.97      7307\n",
            "\n",
            "    accuracy                           0.97     14828\n",
            "   macro avg       0.97      0.97      0.97     14828\n",
            "weighted avg       0.97      0.97      0.97     14828\n",
            "\n",
            "____________________________________________________________________________________________________\n",
            "******************** AdaBoostClassifier ********************\n",
            "              precision    recall  f1-score   support\n",
            "\n",
            "           0       0.84      0.84      0.84      7521\n",
            "           1       0.84      0.84      0.84      7307\n",
            "\n",
            "    accuracy                           0.84     14828\n",
            "   macro avg       0.84      0.84      0.84     14828\n",
            "weighted avg       0.84      0.84      0.84     14828\n",
            "\n",
            "____________________________________________________________________________________________________\n",
            "******************** GradientBoostingClassifier ********************\n",
            "              precision    recall  f1-score   support\n",
            "\n",
            "           0       0.88      0.91      0.90      7521\n",
            "           1       0.91      0.87      0.89      7307\n",
            "\n",
            "    accuracy                           0.90     14828\n",
            "   macro avg       0.90      0.89      0.90     14828\n",
            "weighted avg       0.90      0.90      0.90     14828\n",
            "\n",
            "____________________________________________________________________________________________________\n",
            "******************** XGBRFClassifier ********************\n",
            "              precision    recall  f1-score   support\n",
            "\n",
            "           0       0.83      0.84      0.83      7521\n",
            "           1       0.83      0.83      0.83      7307\n",
            "\n",
            "    accuracy                           0.83     14828\n",
            "   macro avg       0.83      0.83      0.83     14828\n",
            "weighted avg       0.83      0.83      0.83     14828\n",
            "\n",
            "____________________________________________________________________________________________________\n",
            "******************** RandomForestClassifier ********************\n",
            "              precision    recall  f1-score   support\n",
            "\n",
            "           0       0.99      0.99      0.99      7521\n",
            "           1       0.99      0.99      0.99      7307\n",
            "\n",
            "    accuracy                           0.99     14828\n",
            "   macro avg       0.99      0.99      0.99     14828\n",
            "weighted avg       0.99      0.99      0.99     14828\n",
            "\n"
          ]
        }
      ],
      "source": [
        "# Model Building\n",
        "from sklearn.neighbors import KNeighborsClassifier\n",
        "from sklearn.svm import SVC\n",
        "from sklearn.naive_bayes import GaussianNB\n",
        "from sklearn.tree import DecisionTreeClassifier\n",
        "from sklearn.ensemble import RandomForestClassifier\n",
        "from sklearn.ensemble import AdaBoostClassifier\n",
        "from sklearn.ensemble import GradientBoostingClassifier\n",
        "from xgboost import XGBRFClassifier\n",
        "\n",
        "from sklearn.metrics import ConfusionMatrixDisplay, classification_report,accuracy_score\n",
        "\n",
        "knn = KNeighborsClassifier()\n",
        "svc = SVC()\n",
        "nb = GaussianNB()\n",
        "de = DecisionTreeClassifier()\n",
        "ad = AdaBoostClassifier()\n",
        "gb = GradientBoostingClassifier()\n",
        "xb = XGBRFClassifier()\n",
        "rf = RandomForestClassifier()\n",
        "\n",
        "lst1 = [knn, svc, nb, de, ad, gb, xb, rf]\n",
        "accuracy_over_sampling=[]\n",
        "\n",
        "for i in lst1:\n",
        "    print(\"_\" * 100)\n",
        "    print(\"*\" * 20,i.__class__.__name__, \"*\" * 20)\n",
        "    i.fit(X_train,y_train)\n",
        "    y_pred = i.predict(X_test)\n",
        "    # print(ConfusionMatrixDisplay.from_predictions(y_test,y_pred))\n",
        "    print(classification_report(y_test,y_pred))\n",
        "    accuracy=accuracy_score(y_test,y_pred)\n",
        "    # accuracy_over_sampling.append(f\"{i.__class__.__name__}: {accuracy}\")\n",
        "    accuracy_over_sampling.append(accuracy)\n",
        "\n"
      ]
    },
    {
      "cell_type": "code",
      "execution_count": 38,
      "metadata": {
        "colab": {
          "base_uri": "https://localhost:8080/",
          "height": 300
        },
        "id": "LFJA_9azTmeI",
        "outputId": "861650d5-2fcf-45f2-f203-6de626f83a24"
      },
      "outputs": [
        {
          "data": {
            "text/html": [
              "<style type=\"text/css\">\n",
              "#T_0bf8e_row7_col1 {\n",
              "  background-color: lightgreen;\n",
              "}\n",
              "</style>\n",
              "<table id=\"T_0bf8e\" class=\"dataframe\">\n",
              "  <thead>\n",
              "    <tr>\n",
              "      <th class=\"blank level0\" >&nbsp;</th>\n",
              "      <th id=\"T_0bf8e_level0_col0\" class=\"col_heading level0 col0\" >Algorithm</th>\n",
              "      <th id=\"T_0bf8e_level0_col1\" class=\"col_heading level0 col1\" >Accuracy_Over_Sampling</th>\n",
              "    </tr>\n",
              "  </thead>\n",
              "  <tbody>\n",
              "    <tr>\n",
              "      <th id=\"T_0bf8e_level0_row0\" class=\"row_heading level0 row0\" >0</th>\n",
              "      <td id=\"T_0bf8e_row0_col0\" class=\"data row0 col0\" >KNeighborsClassifier</td>\n",
              "      <td id=\"T_0bf8e_row0_col1\" class=\"data row0 col1\" >0.941934</td>\n",
              "    </tr>\n",
              "    <tr>\n",
              "      <th id=\"T_0bf8e_level0_row1\" class=\"row_heading level0 row1\" >1</th>\n",
              "      <td id=\"T_0bf8e_row1_col0\" class=\"data row1 col0\" >SVC</td>\n",
              "      <td id=\"T_0bf8e_row1_col1\" class=\"data row1 col1\" >0.851902</td>\n",
              "    </tr>\n",
              "    <tr>\n",
              "      <th id=\"T_0bf8e_level0_row2\" class=\"row_heading level0 row2\" >2</th>\n",
              "      <td id=\"T_0bf8e_row2_col0\" class=\"data row2 col0\" >GaussianNB</td>\n",
              "      <td id=\"T_0bf8e_row2_col1\" class=\"data row2 col1\" >0.701915</td>\n",
              "    </tr>\n",
              "    <tr>\n",
              "      <th id=\"T_0bf8e_level0_row3\" class=\"row_heading level0 row3\" >3</th>\n",
              "      <td id=\"T_0bf8e_row3_col0\" class=\"data row3 col0\" >DecisionTreeClassifier</td>\n",
              "      <td id=\"T_0bf8e_row3_col1\" class=\"data row3 col1\" >0.974710</td>\n",
              "    </tr>\n",
              "    <tr>\n",
              "      <th id=\"T_0bf8e_level0_row4\" class=\"row_heading level0 row4\" >4</th>\n",
              "      <td id=\"T_0bf8e_row4_col0\" class=\"data row4 col0\" >AdaBoostClassifier</td>\n",
              "      <td id=\"T_0bf8e_row4_col1\" class=\"data row4 col1\" >0.839223</td>\n",
              "    </tr>\n",
              "    <tr>\n",
              "      <th id=\"T_0bf8e_level0_row5\" class=\"row_heading level0 row5\" >5</th>\n",
              "      <td id=\"T_0bf8e_row5_col0\" class=\"data row5 col0\" >GradientBoostingClassifier</td>\n",
              "      <td id=\"T_0bf8e_row5_col1\" class=\"data row5 col1\" >0.895131</td>\n",
              "    </tr>\n",
              "    <tr>\n",
              "      <th id=\"T_0bf8e_level0_row6\" class=\"row_heading level0 row6\" >6</th>\n",
              "      <td id=\"T_0bf8e_row6_col0\" class=\"data row6 col0\" >XGBRFClassifier</td>\n",
              "      <td id=\"T_0bf8e_row6_col1\" class=\"data row6 col1\" >0.831400</td>\n",
              "    </tr>\n",
              "    <tr>\n",
              "      <th id=\"T_0bf8e_level0_row7\" class=\"row_heading level0 row7\" >7</th>\n",
              "      <td id=\"T_0bf8e_row7_col0\" class=\"data row7 col0\" >RandomForestClassifier</td>\n",
              "      <td id=\"T_0bf8e_row7_col1\" class=\"data row7 col1\" >0.989817</td>\n",
              "    </tr>\n",
              "  </tbody>\n",
              "</table>\n"
            ],
            "text/plain": [
              "<pandas.io.formats.style.Styler at 0x7d3fe0393dc0>"
            ]
          },
          "execution_count": 38,
          "metadata": {},
          "output_type": "execute_result"
        }
      ],
      "source": [
        "# highlight the highest accuracy\n",
        "\n",
        "accuracy_os_sample = pd.DataFrame({\n",
        "    \"Algorithm\": [\"KNeighborsClassifier\", \"SVC\", \"GaussianNB\", \"DecisionTreeClassifier\", \"AdaBoostClassifier\", \"GradientBoostingClassifier\", \"XGBRFClassifier\", \"RandomForestClassifier\"],\n",
        "    \"Accuracy_Over_Sampling\": accuracy_over_sampling})\n",
        "accuracy_os_sample\n",
        "accuracy_os_sample.style.highlight_max(subset=[\"Accuracy_Over_Sampling\"], color='lightgreen', axis=0)"
      ]
    },
    {
      "cell_type": "code",
      "execution_count": 38,
      "metadata": {
        "id": "SFRR9yFLUS6w"
      },
      "outputs": [],
      "source": []
    },
    {
      "cell_type": "code",
      "execution_count": 38,
      "metadata": {
        "id": "yXCx0BctUC4X"
      },
      "outputs": [],
      "source": []
    },
    {
      "cell_type": "markdown",
      "metadata": {
        "id": "bX7i1YnHZu3c"
      },
      "source": [
        "#**Over Sampling-Feature Extraction**"
      ]
    },
    {
      "cell_type": "code",
      "execution_count": 39,
      "metadata": {
        "id": "3ntpuXkxZ7Az"
      },
      "outputs": [],
      "source": [
        "# Principal Component Analysis PCA-use dimensionality reduction\n",
        "from sklearn.decomposition import PCA\n",
        "pca=PCA()\n",
        "X_os=pca.fit_transform(X_os)"
      ]
    },
    {
      "cell_type": "code",
      "execution_count": 40,
      "metadata": {
        "id": "Na4Y15vHZ7Mb"
      },
      "outputs": [],
      "source": [
        "# train test split\n",
        "from sklearn.model_selection import train_test_split\n",
        "X_train,X_test,y_train,y_test=train_test_split(X_os,y_os,test_size=0.3,random_state=1)\n"
      ]
    },
    {
      "cell_type": "code",
      "execution_count": 41,
      "metadata": {
        "colab": {
          "base_uri": "https://localhost:8080/"
        },
        "id": "26dr2DKqa46s",
        "outputId": "06497764-a676-4b8a-acc2-39f7b99ca3f5"
      },
      "outputs": [
        {
          "name": "stdout",
          "output_type": "stream",
          "text": [
            "____________________________________________________________________________________________________\n",
            "******************** KNeighborsClassifier ********************\n",
            "              precision    recall  f1-score   support\n",
            "\n",
            "           0       0.98      0.90      0.94      7521\n",
            "           1       0.91      0.98      0.94      7307\n",
            "\n",
            "    accuracy                           0.94     14828\n",
            "   macro avg       0.94      0.94      0.94     14828\n",
            "weighted avg       0.95      0.94      0.94     14828\n",
            "\n",
            "____________________________________________________________________________________________________\n",
            "******************** SVC ********************\n",
            "              precision    recall  f1-score   support\n",
            "\n",
            "           0       0.89      0.82      0.86      7521\n",
            "           1       0.83      0.90      0.86      7307\n",
            "\n",
            "    accuracy                           0.86     14828\n",
            "   macro avg       0.86      0.86      0.86     14828\n",
            "weighted avg       0.86      0.86      0.86     14828\n",
            "\n",
            "____________________________________________________________________________________________________\n",
            "******************** GaussianNB ********************\n",
            "              precision    recall  f1-score   support\n",
            "\n",
            "           0       0.80      0.60      0.69      7521\n",
            "           1       0.67      0.84      0.75      7307\n",
            "\n",
            "    accuracy                           0.72     14828\n",
            "   macro avg       0.73      0.72      0.72     14828\n",
            "weighted avg       0.74      0.72      0.72     14828\n",
            "\n",
            "____________________________________________________________________________________________________\n",
            "******************** DecisionTreeClassifier ********************\n",
            "              precision    recall  f1-score   support\n",
            "\n",
            "           0       0.97      0.94      0.96      7521\n",
            "           1       0.94      0.97      0.96      7307\n",
            "\n",
            "    accuracy                           0.96     14828\n",
            "   macro avg       0.96      0.96      0.96     14828\n",
            "weighted avg       0.96      0.96      0.96     14828\n",
            "\n",
            "____________________________________________________________________________________________________\n",
            "******************** AdaBoostClassifier ********************\n",
            "              precision    recall  f1-score   support\n",
            "\n",
            "           0       0.82      0.77      0.79      7521\n",
            "           1       0.78      0.83      0.80      7307\n",
            "\n",
            "    accuracy                           0.80     14828\n",
            "   macro avg       0.80      0.80      0.80     14828\n",
            "weighted avg       0.80      0.80      0.80     14828\n",
            "\n",
            "____________________________________________________________________________________________________\n",
            "******************** GradientBoostingClassifier ********************\n",
            "              precision    recall  f1-score   support\n",
            "\n",
            "           0       0.87      0.82      0.84      7521\n",
            "           1       0.82      0.88      0.85      7307\n",
            "\n",
            "    accuracy                           0.85     14828\n",
            "   macro avg       0.85      0.85      0.85     14828\n",
            "weighted avg       0.85      0.85      0.85     14828\n",
            "\n",
            "____________________________________________________________________________________________________\n",
            "******************** XGBRFClassifier ********************\n",
            "              precision    recall  f1-score   support\n",
            "\n",
            "           0       0.82      0.79      0.81      7521\n",
            "           1       0.79      0.83      0.81      7307\n",
            "\n",
            "    accuracy                           0.81     14828\n",
            "   macro avg       0.81      0.81      0.81     14828\n",
            "weighted avg       0.81      0.81      0.81     14828\n",
            "\n",
            "____________________________________________________________________________________________________\n",
            "******************** RandomForestClassifier ********************\n",
            "              precision    recall  f1-score   support\n",
            "\n",
            "           0       0.99      0.97      0.98      7521\n",
            "           1       0.97      0.99      0.98      7307\n",
            "\n",
            "    accuracy                           0.98     14828\n",
            "   macro avg       0.98      0.98      0.98     14828\n",
            "weighted avg       0.98      0.98      0.98     14828\n",
            "\n"
          ]
        }
      ],
      "source": [
        "# Model Building\n",
        "from sklearn.neighbors import KNeighborsClassifier\n",
        "from sklearn.svm import SVC\n",
        "from sklearn.naive_bayes import GaussianNB\n",
        "from sklearn.tree import DecisionTreeClassifier\n",
        "from sklearn.ensemble import RandomForestClassifier\n",
        "from sklearn.ensemble import AdaBoostClassifier\n",
        "from sklearn.ensemble import GradientBoostingClassifier\n",
        "from xgboost import XGBRFClassifier\n",
        "\n",
        "from sklearn.metrics import ConfusionMatrixDisplay, classification_report,accuracy_score\n",
        "\n",
        "knn = KNeighborsClassifier()\n",
        "svc = SVC()\n",
        "nb = GaussianNB()\n",
        "de = DecisionTreeClassifier()\n",
        "ad = AdaBoostClassifier()\n",
        "gb = GradientBoostingClassifier()\n",
        "xb = XGBRFClassifier()\n",
        "rf = RandomForestClassifier()\n",
        "\n",
        "lst1 = [knn, svc, nb, de, ad, gb, xb, rf]\n",
        "accuracy_over_sampling_pca=[]\n",
        "\n",
        "for i in lst1:\n",
        "    print(\"_\" * 100)\n",
        "    print(\"*\" * 20,i.__class__.__name__, \"*\" * 20)\n",
        "    i.fit(X_train,y_train)\n",
        "    y_pred = i.predict(X_test)\n",
        "    # print(ConfusionMatrixDisplay.from_predictions(y_test,y_pred))\n",
        "    print(classification_report(y_test,y_pred))\n",
        "    accuracy=accuracy_score(y_test,y_pred)\n",
        "    # accuracy_over_sampling_pca.append(f\"{i.__class__.__name__}: {accuracy}\")\n",
        "    accuracy_over_sampling_pca.append(accuracy)"
      ]
    },
    {
      "cell_type": "code",
      "execution_count": 42,
      "metadata": {
        "colab": {
          "base_uri": "https://localhost:8080/",
          "height": 300
        },
        "id": "MktvL6dDwGSW",
        "outputId": "b80f255d-c2db-4098-fddd-a3c3699a8f76"
      },
      "outputs": [
        {
          "data": {
            "text/html": [
              "<style type=\"text/css\">\n",
              "#T_18013_row7_col1, #T_18013_row7_col2 {\n",
              "  background-color: lightgreen;\n",
              "}\n",
              "</style>\n",
              "<table id=\"T_18013\" class=\"dataframe\">\n",
              "  <thead>\n",
              "    <tr>\n",
              "      <th class=\"blank level0\" >&nbsp;</th>\n",
              "      <th id=\"T_18013_level0_col0\" class=\"col_heading level0 col0\" >Algorithm</th>\n",
              "      <th id=\"T_18013_level0_col1\" class=\"col_heading level0 col1\" >Accuracy_Over_Sampling</th>\n",
              "      <th id=\"T_18013_level0_col2\" class=\"col_heading level0 col2\" >Accuracy_Over_Sampling_PCA</th>\n",
              "    </tr>\n",
              "  </thead>\n",
              "  <tbody>\n",
              "    <tr>\n",
              "      <th id=\"T_18013_level0_row0\" class=\"row_heading level0 row0\" >0</th>\n",
              "      <td id=\"T_18013_row0_col0\" class=\"data row0 col0\" >KNeighborsClassifier</td>\n",
              "      <td id=\"T_18013_row0_col1\" class=\"data row0 col1\" >0.941934</td>\n",
              "      <td id=\"T_18013_row0_col2\" class=\"data row0 col2\" >0.941934</td>\n",
              "    </tr>\n",
              "    <tr>\n",
              "      <th id=\"T_18013_level0_row1\" class=\"row_heading level0 row1\" >1</th>\n",
              "      <td id=\"T_18013_row1_col0\" class=\"data row1 col0\" >SVC</td>\n",
              "      <td id=\"T_18013_row1_col1\" class=\"data row1 col1\" >0.851902</td>\n",
              "      <td id=\"T_18013_row1_col2\" class=\"data row1 col2\" >0.859995</td>\n",
              "    </tr>\n",
              "    <tr>\n",
              "      <th id=\"T_18013_level0_row2\" class=\"row_heading level0 row2\" >2</th>\n",
              "      <td id=\"T_18013_row2_col0\" class=\"data row2 col0\" >GaussianNB</td>\n",
              "      <td id=\"T_18013_row2_col1\" class=\"data row2 col1\" >0.701915</td>\n",
              "      <td id=\"T_18013_row2_col2\" class=\"data row2 col2\" >0.720596</td>\n",
              "    </tr>\n",
              "    <tr>\n",
              "      <th id=\"T_18013_level0_row3\" class=\"row_heading level0 row3\" >3</th>\n",
              "      <td id=\"T_18013_row3_col0\" class=\"data row3 col0\" >DecisionTreeClassifier</td>\n",
              "      <td id=\"T_18013_row3_col1\" class=\"data row3 col1\" >0.974710</td>\n",
              "      <td id=\"T_18013_row3_col2\" class=\"data row3 col2\" >0.956906</td>\n",
              "    </tr>\n",
              "    <tr>\n",
              "      <th id=\"T_18013_level0_row4\" class=\"row_heading level0 row4\" >4</th>\n",
              "      <td id=\"T_18013_row4_col0\" class=\"data row4 col0\" >AdaBoostClassifier</td>\n",
              "      <td id=\"T_18013_row4_col1\" class=\"data row4 col1\" >0.839223</td>\n",
              "      <td id=\"T_18013_row4_col2\" class=\"data row4 col2\" >0.798827</td>\n",
              "    </tr>\n",
              "    <tr>\n",
              "      <th id=\"T_18013_level0_row5\" class=\"row_heading level0 row5\" >5</th>\n",
              "      <td id=\"T_18013_row5_col0\" class=\"data row5 col0\" >GradientBoostingClassifier</td>\n",
              "      <td id=\"T_18013_row5_col1\" class=\"data row5 col1\" >0.895131</td>\n",
              "      <td id=\"T_18013_row5_col2\" class=\"data row5 col2\" >0.846641</td>\n",
              "    </tr>\n",
              "    <tr>\n",
              "      <th id=\"T_18013_level0_row6\" class=\"row_heading level0 row6\" >6</th>\n",
              "      <td id=\"T_18013_row6_col0\" class=\"data row6 col0\" >XGBRFClassifier</td>\n",
              "      <td id=\"T_18013_row6_col1\" class=\"data row6 col1\" >0.831400</td>\n",
              "      <td id=\"T_18013_row6_col2\" class=\"data row6 col2\" >0.807998</td>\n",
              "    </tr>\n",
              "    <tr>\n",
              "      <th id=\"T_18013_level0_row7\" class=\"row_heading level0 row7\" >7</th>\n",
              "      <td id=\"T_18013_row7_col0\" class=\"data row7 col0\" >RandomForestClassifier</td>\n",
              "      <td id=\"T_18013_row7_col1\" class=\"data row7 col1\" >0.989817</td>\n",
              "      <td id=\"T_18013_row7_col2\" class=\"data row7 col2\" >0.978554</td>\n",
              "    </tr>\n",
              "  </tbody>\n",
              "</table>\n"
            ],
            "text/plain": [
              "<pandas.io.formats.style.Styler at 0x7d40004f9390>"
            ]
          },
          "execution_count": 42,
          "metadata": {},
          "output_type": "execute_result"
        }
      ],
      "source": [
        "# highlight the highest accuracy\n",
        "accuracy_over_sample = pd.DataFrame({\n",
        "    \"Algorithm\": [\"KNeighborsClassifier\", \"SVC\", \"GaussianNB\", \"DecisionTreeClassifier\", \"AdaBoostClassifier\", \"GradientBoostingClassifier\", \"XGBRFClassifier\", \"RandomForestClassifier\"],\n",
        "    \"Accuracy_Over_Sampling\": accuracy_over_sampling,\n",
        "    \"Accuracy_Over_Sampling_PCA\": accuracy_over_sampling_pca})\n",
        "accuracy_over_sample\n",
        "accuracy_over_sample.style.highlight_max(subset=[\"Accuracy_Over_Sampling\", \"Accuracy_Over_Sampling_PCA\"], color='lightgreen', axis=0)"
      ]
    },
    {
      "cell_type": "markdown",
      "metadata": {
        "id": "X0HH50vIPon6"
      },
      "source": [
        "#**under sampling**\n",
        "\n",
        "Undersampling is a technique used to address class imbalance in a dataset by reducing the number of samples in the majority class."
      ]
    },
    {
      "cell_type": "code",
      "execution_count": 43,
      "metadata": {
        "id": "FOaEHIzhE2uR"
      },
      "outputs": [],
      "source": [
        "X=df.iloc[:,:-1]\n",
        "y=df.iloc[:,-1]"
      ]
    },
    {
      "cell_type": "code",
      "execution_count": 44,
      "metadata": {
        "id": "aIVEtahdssee"
      },
      "outputs": [],
      "source": [
        "# RandomUnderSampler -It randomly selects a subset of samples from the majority class\n",
        "from imblearn.under_sampling import RandomUnderSampler\n",
        "us=RandomUnderSampler(random_state=1)\n",
        "X_us,y_us=us.fit_resample(X,y)\n"
      ]
    },
    {
      "cell_type": "code",
      "execution_count": 45,
      "metadata": {
        "colab": {
          "base_uri": "https://localhost:8080/",
          "height": 501
        },
        "id": "knhpNcVAqNQ6",
        "outputId": "98c66eb9-2ff7-4d04-e3cc-90f0e44bdc31"
      },
      "outputs": [
        {
          "name": "stdout",
          "output_type": "stream",
          "text": [
            "0    422\n",
            "1    422\n",
            "Name: TARGET, dtype: int64\n"
          ]
        },
        {
          "data": {
            "image/png": "[encoded data removed]",
            "text/plain": [
              "<Figure size 640x480 with 1 Axes>"
            ]
          },
          "metadata": {},
          "output_type": "display_data"
        }
      ],
      "source": [
        "import seaborn as sns\n",
        "import matplotlib.pyplot as plt\n",
        "\n",
        "sns.countplot(x=y_us,data=df)\n",
        "print(y_us.value_counts())"
      ]
    },
    {
      "cell_type": "code",
      "execution_count": 46,
      "metadata": {
        "colab": {
          "base_uri": "https://localhost:8080/",
          "height": 458
        },
        "id": "jJfUrhHXqnXM",
        "outputId": "0f4e4598-302c-4241-a65d-72104c593ff5"
      },
      "outputs": [
        {
          "name": "stdout",
          "output_type": "stream",
          "text": [
            "0    422\n",
            "1    422\n",
            "Name: TARGET, dtype: int64\n"
          ]
        },
        {
          "data": {
            "image/png": "[encoded data removed]",
            "text/plain": [
              "<Figure size 640x480 with 1 Axes>"
            ]
          },
          "metadata": {},
          "output_type": "display_data"
        }
      ],
      "source": [
        "import matplotlib.pyplot as plt\n",
        "\n",
        "z = y_us.value_counts()\n",
        "print(z)\n",
        "fraud = [\"Not Fraud\", \"Fraud\"]\n",
        "\n",
        "plt.pie(z, labels=fraud,autopct='%1.1f%%',shadow=True)\n",
        "plt.legend()\n",
        "plt.show()"
      ]
    },
    {
      "cell_type": "code",
      "execution_count": 47,
      "metadata": {
        "id": "zL-5C_lRxKHN"
      },
      "outputs": [],
      "source": [
        "# train test split\n",
        "from sklearn.model_selection import train_test_split\n",
        "X_train,X_test,y_train,y_test=train_test_split(X_us,y_us,test_size=0.3,random_state=1)"
      ]
    },
    {
      "cell_type": "code",
      "execution_count": 48,
      "metadata": {
        "colab": {
          "base_uri": "https://localhost:8080/"
        },
        "id": "G4-hEX8txkyD",
        "outputId": "931c13da-3e30-417a-c7e8-f51e9ddeb979"
      },
      "outputs": [
        {
          "name": "stdout",
          "output_type": "stream",
          "text": [
            "____________________________________________________________________________________________________\n",
            "******************** KNeighborsClassifier ********************\n",
            "              precision    recall  f1-score   support\n",
            "\n",
            "           0       0.60      0.54      0.57       123\n",
            "           1       0.60      0.66      0.63       131\n",
            "\n",
            "    accuracy                           0.60       254\n",
            "   macro avg       0.60      0.60      0.60       254\n",
            "weighted avg       0.60      0.60      0.60       254\n",
            "\n",
            "____________________________________________________________________________________________________\n",
            "******************** SVC ********************\n",
            "              precision    recall  f1-score   support\n",
            "\n",
            "           0       0.48      0.72      0.57       123\n",
            "           1       0.49      0.26      0.34       131\n",
            "\n",
            "    accuracy                           0.48       254\n",
            "   macro avg       0.48      0.49      0.46       254\n",
            "weighted avg       0.48      0.48      0.45       254\n",
            "\n",
            "____________________________________________________________________________________________________\n",
            "******************** GaussianNB ********************\n",
            "              precision    recall  f1-score   support\n",
            "\n",
            "           0       0.56      0.54      0.55       123\n",
            "           1       0.58      0.61      0.60       131\n",
            "\n",
            "    accuracy                           0.57       254\n",
            "   macro avg       0.57      0.57      0.57       254\n",
            "weighted avg       0.57      0.57      0.57       254\n",
            "\n",
            "____________________________________________________________________________________________________\n",
            "******************** DecisionTreeClassifier ********************\n",
            "              precision    recall  f1-score   support\n",
            "\n",
            "           0       0.59      0.54      0.56       123\n",
            "           1       0.60      0.66      0.63       131\n",
            "\n",
            "    accuracy                           0.60       254\n",
            "   macro avg       0.60      0.60      0.60       254\n",
            "weighted avg       0.60      0.60      0.60       254\n",
            "\n",
            "____________________________________________________________________________________________________\n",
            "******************** AdaBoostClassifier ********************\n",
            "              precision    recall  f1-score   support\n",
            "\n",
            "           0       0.55      0.54      0.54       123\n",
            "           1       0.57      0.59      0.58       131\n",
            "\n",
            "    accuracy                           0.56       254\n",
            "   macro avg       0.56      0.56      0.56       254\n",
            "weighted avg       0.56      0.56      0.56       254\n",
            "\n",
            "____________________________________________________________________________________________________\n",
            "******************** GradientBoostingClassifier ********************\n",
            "              precision    recall  f1-score   support\n",
            "\n",
            "           0       0.59      0.60      0.60       123\n",
            "           1       0.62      0.61      0.62       131\n",
            "\n",
            "    accuracy                           0.61       254\n",
            "   macro avg       0.61      0.61      0.61       254\n",
            "weighted avg       0.61      0.61      0.61       254\n",
            "\n",
            "____________________________________________________________________________________________________\n",
            "******************** XGBRFClassifier ********************\n",
            "              precision    recall  f1-score   support\n",
            "\n",
            "           0       0.56      0.59      0.57       123\n",
            "           1       0.59      0.56      0.58       131\n",
            "\n",
            "    accuracy                           0.57       254\n",
            "   macro avg       0.58      0.58      0.57       254\n",
            "weighted avg       0.58      0.57      0.57       254\n",
            "\n",
            "____________________________________________________________________________________________________\n",
            "******************** RandomForestClassifier ********************\n",
            "              precision    recall  f1-score   support\n",
            "\n",
            "           0       0.66      0.63      0.64       123\n",
            "           1       0.67      0.69      0.68       131\n",
            "\n",
            "    accuracy                           0.66       254\n",
            "   macro avg       0.66      0.66      0.66       254\n",
            "weighted avg       0.66      0.66      0.66       254\n",
            "\n"
          ]
        }
      ],
      "source": [
        "# Model Building\n",
        "from sklearn.neighbors import KNeighborsClassifier\n",
        "from sklearn.svm import SVC\n",
        "from sklearn.naive_bayes import GaussianNB\n",
        "from sklearn.tree import DecisionTreeClassifier\n",
        "from sklearn.ensemble import RandomForestClassifier\n",
        "from sklearn.ensemble import AdaBoostClassifier\n",
        "from sklearn.ensemble import GradientBoostingClassifier\n",
        "from xgboost import XGBRFClassifier\n",
        "\n",
        "from sklearn.metrics import ConfusionMatrixDisplay, classification_report,accuracy_score\n",
        "\n",
        "knn = KNeighborsClassifier()\n",
        "svc = SVC()\n",
        "nb = GaussianNB()\n",
        "de = DecisionTreeClassifier()\n",
        "ad = AdaBoostClassifier()\n",
        "gb = GradientBoostingClassifier()\n",
        "xb = XGBRFClassifier()\n",
        "rf = RandomForestClassifier()\n",
        "\n",
        "lst1 = [knn, svc, nb, de, ad, gb, xb, rf]\n",
        "accuracy_under_sampling=[]\n",
        "\n",
        "for i in lst1:\n",
        "    print(\"_\" * 100)\n",
        "    print(\"*\" * 20,i.__class__.__name__, \"*\" * 20)\n",
        "    i.fit(X_train,y_train)\n",
        "    y_pred = i.predict(X_test)\n",
        "    # print(ConfusionMatrixDisplay.from_predictions(y_test,y_pred))\n",
        "    print(classification_report(y_test,y_pred))\n",
        "    accuracy=accuracy_score(y_test,y_pred)\n",
        "    # accuracy_under_sampling.append(f\"{i.__class__.__name__}: {accuracy}\")\n",
        "    accuracy_under_sampling.append(accuracy)\n",
        "\n"
      ]
    },
    {
      "cell_type": "code",
      "execution_count": 49,
      "metadata": {
        "colab": {
          "base_uri": "https://localhost:8080/",
          "height": 300
        },
        "id": "osanNWhnxUv3",
        "outputId": "b64177cf-e0a3-493e-db06-fd95d8766542"
      },
      "outputs": [
        {
          "data": {
            "text/html": [
              "<style type=\"text/css\">\n",
              "#T_2947a_row7_col1 {\n",
              "  background-color: lightgreen;\n",
              "}\n",
              "</style>\n",
              "<table id=\"T_2947a\" class=\"dataframe\">\n",
              "  <thead>\n",
              "    <tr>\n",
              "      <th class=\"blank level0\" >&nbsp;</th>\n",
              "      <th id=\"T_2947a_level0_col0\" class=\"col_heading level0 col0\" >Algorithm</th>\n",
              "      <th id=\"T_2947a_level0_col1\" class=\"col_heading level0 col1\" >Accuracy_Under_Sampling_PCA</th>\n",
              "    </tr>\n",
              "  </thead>\n",
              "  <tbody>\n",
              "    <tr>\n",
              "      <th id=\"T_2947a_level0_row0\" class=\"row_heading level0 row0\" >0</th>\n",
              "      <td id=\"T_2947a_row0_col0\" class=\"data row0 col0\" >KNeighborsClassifier</td>\n",
              "      <td id=\"T_2947a_row0_col1\" class=\"data row0 col1\" >0.602362</td>\n",
              "    </tr>\n",
              "    <tr>\n",
              "      <th id=\"T_2947a_level0_row1\" class=\"row_heading level0 row1\" >1</th>\n",
              "      <td id=\"T_2947a_row1_col0\" class=\"data row1 col0\" >SVC</td>\n",
              "      <td id=\"T_2947a_row1_col1\" class=\"data row1 col1\" >0.480315</td>\n",
              "    </tr>\n",
              "    <tr>\n",
              "      <th id=\"T_2947a_level0_row2\" class=\"row_heading level0 row2\" >2</th>\n",
              "      <td id=\"T_2947a_row2_col0\" class=\"data row2 col0\" >GaussianNB</td>\n",
              "      <td id=\"T_2947a_row2_col1\" class=\"data row2 col1\" >0.574803</td>\n",
              "    </tr>\n",
              "    <tr>\n",
              "      <th id=\"T_2947a_level0_row3\" class=\"row_heading level0 row3\" >3</th>\n",
              "      <td id=\"T_2947a_row3_col0\" class=\"data row3 col0\" >DecisionTreeClassifier</td>\n",
              "      <td id=\"T_2947a_row3_col1\" class=\"data row3 col1\" >0.598425</td>\n",
              "    </tr>\n",
              "    <tr>\n",
              "      <th id=\"T_2947a_level0_row4\" class=\"row_heading level0 row4\" >4</th>\n",
              "      <td id=\"T_2947a_row4_col0\" class=\"data row4 col0\" >AdaBoostClassifier</td>\n",
              "      <td id=\"T_2947a_row4_col1\" class=\"data row4 col1\" >0.562992</td>\n",
              "    </tr>\n",
              "    <tr>\n",
              "      <th id=\"T_2947a_level0_row5\" class=\"row_heading level0 row5\" >5</th>\n",
              "      <td id=\"T_2947a_row5_col0\" class=\"data row5 col0\" >GradientBoostingClassifier</td>\n",
              "      <td id=\"T_2947a_row5_col1\" class=\"data row5 col1\" >0.606299</td>\n",
              "    </tr>\n",
              "    <tr>\n",
              "      <th id=\"T_2947a_level0_row6\" class=\"row_heading level0 row6\" >6</th>\n",
              "      <td id=\"T_2947a_row6_col0\" class=\"data row6 col0\" >XGBRFClassifier</td>\n",
              "      <td id=\"T_2947a_row6_col1\" class=\"data row6 col1\" >0.574803</td>\n",
              "    </tr>\n",
              "    <tr>\n",
              "      <th id=\"T_2947a_level0_row7\" class=\"row_heading level0 row7\" >7</th>\n",
              "      <td id=\"T_2947a_row7_col0\" class=\"data row7 col0\" >RandomForestClassifier</td>\n",
              "      <td id=\"T_2947a_row7_col1\" class=\"data row7 col1\" >0.661417</td>\n",
              "    </tr>\n",
              "  </tbody>\n",
              "</table>\n"
            ],
            "text/plain": [
              "<pandas.io.formats.style.Styler at 0x7d3fe0113190>"
            ]
          },
          "execution_count": 49,
          "metadata": {},
          "output_type": "execute_result"
        }
      ],
      "source": [
        "# highlight the highest accuracy\n",
        "accuracy_us_sample = pd.DataFrame({\n",
        "    \"Algorithm\": [\"KNeighborsClassifier\", \"SVC\", \"GaussianNB\", \"DecisionTreeClassifier\", \"AdaBoostClassifier\", \"GradientBoostingClassifier\", \"XGBRFClassifier\", \"RandomForestClassifier\"],\n",
        "\n",
        "    \"Accuracy_Under_Sampling_PCA\": accuracy_under_sampling})\n",
        "accuracy_us_sample\n",
        "accuracy_us_sample.style.highlight_max(subset=[\"Accuracy_Under_Sampling_PCA\"], color='lightgreen', axis=0)"
      ]
    },
    {
      "cell_type": "markdown",
      "metadata": {
        "id": "z4VCy7thNCuN"
      },
      "source": [
        "#***SMOTEENN***\n",
        "**SMOTEENN** is a combination of two techniques: **SMOTE** (Synthetic Minority Over-sampling Technique) and **Edited Nearest Neighbors** (ENN).<br> It is used to address class imbalance in a dataset by oversampling the minority class and simultaneously cleaning the data by **removing noisy samples**."
      ]
    },
    {
      "cell_type": "markdown",
      "metadata": {
        "id": "FK-6ca2RucvW"
      },
      "source": [
        "**Edited Nearest Neighbors** (ENN) is a data cleaning technique used to remove noisy samples from a dataset"
      ]
    },
    {
      "cell_type": "code",
      "execution_count": 50,
      "metadata": {
        "id": "18D2XyNERAG4"
      },
      "outputs": [],
      "source": [
        "X=df.iloc[:,:-1]\n",
        "y=df.iloc[:,-1]"
      ]
    },
    {
      "cell_type": "code",
      "execution_count": 51,
      "metadata": {
        "id": "K4RtSdrIK43l"
      },
      "outputs": [],
      "source": [
        "# SMOTEENN\n",
        "from imblearn.combine import SMOTEENN\n",
        "sc=SMOTEENN()\n",
        "X_sc,y_sc=sc.fit_resample(X,y)\n"
      ]
    },
    {
      "cell_type": "code",
      "execution_count": 52,
      "metadata": {
        "id": "M_j6bdCNPBCJ"
      },
      "outputs": [],
      "source": [
        "X_sc=mms.fit_transform(X_sc)"
      ]
    },
    {
      "cell_type": "code",
      "execution_count": 53,
      "metadata": {
        "colab": {
          "base_uri": "https://localhost:8080/",
          "height": 506
        },
        "id": "aCmtsypXNTp0",
        "outputId": "986a7360-aea0-4a90-eec5-43ba2b61e1cf"
      },
      "outputs": [
        {
          "name": "stdout",
          "output_type": "stream",
          "text": [
            "1    23880\n",
            "0    21436\n",
            "Name: TARGET, dtype: int64\n"
          ]
        },
        {
          "data": {
            "image/png": "[encoded data removed]",
            "text/plain": [
              "<Figure size 640x480 with 1 Axes>"
            ]
          },
          "metadata": {},
          "output_type": "display_data"
        }
      ],
      "source": [
        "# countplot\n",
        "import seaborn as sns\n",
        "import matplotlib.pyplot as plt\n",
        "\n",
        "sns.countplot(x=y_sc,data=df)\n",
        "print(y_sc.value_counts())\n"
      ]
    },
    {
      "cell_type": "code",
      "execution_count": 54,
      "metadata": {
        "colab": {
          "base_uri": "https://localhost:8080/",
          "height": 458
        },
        "id": "odOjVqx7t4kv",
        "outputId": "d502e7a4-7bd3-450f-de83-22d848b8d3fa"
      },
      "outputs": [
        {
          "name": "stdout",
          "output_type": "stream",
          "text": [
            "1    23880\n",
            "0    21436\n",
            "Name: TARGET, dtype: int64\n"
          ]
        },
        {
          "data": {
            "image/png": "[encoded data removed]",
            "text/plain": [
              "<Figure size 640x480 with 1 Axes>"
            ]
          },
          "metadata": {},
          "output_type": "display_data"
        }
      ],
      "source": [
        "# pie chart\n",
        "import matplotlib.pyplot as plt\n",
        "\n",
        "z = y_sc.value_counts()\n",
        "print(z)\n",
        "fraud = [\"Fraud\", \"Not Fraud\"]\n",
        "\n",
        "plt.pie(z, labels=fraud,autopct='%1.1f%%',shadow=True)\n",
        "plt.legend()\n",
        "plt.show()"
      ]
    },
    {
      "cell_type": "code",
      "execution_count": 55,
      "metadata": {
        "id": "pMq8FoJ9Ll02"
      },
      "outputs": [],
      "source": [
        "# train test   split\n",
        "from sklearn.model_selection import train_test_split\n",
        "X_train,X_test,y_train,y_test=train_test_split(X_sc,y_sc,test_size=0.3,random_state=1)"
      ]
    },
    {
      "cell_type": "code",
      "execution_count": 56,
      "metadata": {
        "colab": {
          "base_uri": "https://localhost:8080/"
        },
        "id": "qS3dfyh7MzWl",
        "outputId": "4e3998c3-9c90-46e5-e4ed-56b9ebbb5095"
      },
      "outputs": [
        {
          "name": "stdout",
          "output_type": "stream",
          "text": [
            "____________________________________________________________________________________________________\n",
            "******************** KNeighborsClassifier ********************\n",
            "              precision    recall  f1-score   support\n",
            "\n",
            "           0       0.98      0.90      0.94      6477\n",
            "           1       0.92      0.98      0.95      7118\n",
            "\n",
            "    accuracy                           0.94     13595\n",
            "   macro avg       0.95      0.94      0.94     13595\n",
            "weighted avg       0.95      0.94      0.94     13595\n",
            "\n",
            "____________________________________________________________________________________________________\n",
            "******************** SVC ********************\n",
            "              precision    recall  f1-score   support\n",
            "\n",
            "           0       0.89      0.82      0.85      6477\n",
            "           1       0.85      0.90      0.88      7118\n",
            "\n",
            "    accuracy                           0.87     13595\n",
            "   macro avg       0.87      0.86      0.86     13595\n",
            "weighted avg       0.87      0.87      0.86     13595\n",
            "\n",
            "____________________________________________________________________________________________________\n",
            "******************** GaussianNB ********************\n",
            "              precision    recall  f1-score   support\n",
            "\n",
            "           0       0.74      0.58      0.65      6477\n",
            "           1       0.68      0.82      0.74      7118\n",
            "\n",
            "    accuracy                           0.70     13595\n",
            "   macro avg       0.71      0.70      0.70     13595\n",
            "weighted avg       0.71      0.70      0.70     13595\n",
            "\n",
            "____________________________________________________________________________________________________\n",
            "******************** DecisionTreeClassifier ********************\n",
            "              precision    recall  f1-score   support\n",
            "\n",
            "           0       0.99      0.97      0.98      6477\n",
            "           1       0.97      0.99      0.98      7118\n",
            "\n",
            "    accuracy                           0.98     13595\n",
            "   macro avg       0.98      0.98      0.98     13595\n",
            "weighted avg       0.98      0.98      0.98     13595\n",
            "\n",
            "____________________________________________________________________________________________________\n",
            "******************** AdaBoostClassifier ********************\n",
            "              precision    recall  f1-score   support\n",
            "\n",
            "           0       0.83      0.84      0.83      6477\n",
            "           1       0.85      0.85      0.85      7118\n",
            "\n",
            "    accuracy                           0.84     13595\n",
            "   macro avg       0.84      0.84      0.84     13595\n",
            "weighted avg       0.84      0.84      0.84     13595\n",
            "\n",
            "____________________________________________________________________________________________________\n",
            "******************** GradientBoostingClassifier ********************\n",
            "              precision    recall  f1-score   support\n",
            "\n",
            "           0       0.88      0.91      0.89      6477\n",
            "           1       0.92      0.88      0.90      7118\n",
            "\n",
            "    accuracy                           0.90     13595\n",
            "   macro avg       0.90      0.90      0.90     13595\n",
            "weighted avg       0.90      0.90      0.90     13595\n",
            "\n",
            "____________________________________________________________________________________________________\n",
            "******************** XGBRFClassifier ********************\n",
            "              precision    recall  f1-score   support\n",
            "\n",
            "           0       0.82      0.81      0.82      6477\n",
            "           1       0.83      0.84      0.83      7118\n",
            "\n",
            "    accuracy                           0.83     13595\n",
            "   macro avg       0.83      0.82      0.83     13595\n",
            "weighted avg       0.83      0.83      0.83     13595\n",
            "\n",
            "____________________________________________________________________________________________________\n",
            "******************** RandomForestClassifier ********************\n",
            "              precision    recall  f1-score   support\n",
            "\n",
            "           0       0.99      0.99      0.99      6477\n",
            "           1       0.99      0.99      0.99      7118\n",
            "\n",
            "    accuracy                           0.99     13595\n",
            "   macro avg       0.99      0.99      0.99     13595\n",
            "weighted avg       0.99      0.99      0.99     13595\n",
            "\n"
          ]
        }
      ],
      "source": [
        "# Model Building\n",
        "from sklearn.neighbors import KNeighborsClassifier\n",
        "from sklearn.svm import SVC\n",
        "from sklearn.naive_bayes import GaussianNB\n",
        "from sklearn.tree import DecisionTreeClassifier\n",
        "from sklearn.ensemble import RandomForestClassifier\n",
        "from sklearn.ensemble import AdaBoostClassifier\n",
        "from sklearn.ensemble import GradientBoostingClassifier\n",
        "from xgboost import XGBRFClassifier\n",
        "\n",
        "from sklearn.metrics import ConfusionMatrixDisplay, classification_report,accuracy_score\n",
        "\n",
        "knn = KNeighborsClassifier()\n",
        "svc = SVC()\n",
        "nb = GaussianNB()\n",
        "de = DecisionTreeClassifier()\n",
        "ad = AdaBoostClassifier()\n",
        "gb = GradientBoostingClassifier()\n",
        "xb = XGBRFClassifier()\n",
        "rf = RandomForestClassifier()\n",
        "\n",
        "lst1 = [knn, svc, nb, de, ad, gb, xb, rf]\n",
        "accuracy_smoteenn=[]\n",
        "\n",
        "for i in lst1:\n",
        "    print(\"_\" * 100)\n",
        "    print(\"*\" * 20,i.__class__.__name__, \"*\" * 20)\n",
        "    i.fit(X_train,y_train)\n",
        "    y_pred = i.predict(X_test)\n",
        "    # print(ConfusionMatrixDisplay.from_predictions(y_test,y_pred))\n",
        "    print(classification_report(y_test,y_pred))\n",
        "    accuracy=accuracy_score(y_test,y_pred)\n",
        "    # accuracy_smoteenn.append(f\"{i.__class__.__name__}: {accuracy}\")\n",
        "    accuracy_smoteenn.append(accuracy)"
      ]
    },
    {
      "cell_type": "code",
      "execution_count": 57,
      "metadata": {
        "colab": {
          "base_uri": "https://localhost:8080/",
          "height": 300
        },
        "id": "bnR9-KVHNUut",
        "outputId": "6f3109ce-717a-442d-99bd-c769b6584bbb"
      },
      "outputs": [
        {
          "data": {
            "text/html": [
              "<style type=\"text/css\">\n",
              "#T_db096_row5_col1, #T_db096_row7_col2, #T_db096_row7_col3, #T_db096_row7_col4 {\n",
              "  background-color: lightgreen;\n",
              "}\n",
              "</style>\n",
              "<table id=\"T_db096\" class=\"dataframe\">\n",
              "  <thead>\n",
              "    <tr>\n",
              "      <th class=\"blank level0\" >&nbsp;</th>\n",
              "      <th id=\"T_db096_level0_col0\" class=\"col_heading level0 col0\" >Algorithm</th>\n",
              "      <th id=\"T_db096_level0_col1\" class=\"col_heading level0 col1\" >Accuracy_Without_Sampling</th>\n",
              "      <th id=\"T_db096_level0_col2\" class=\"col_heading level0 col2\" >Accuracy_Over_Sampling</th>\n",
              "      <th id=\"T_db096_level0_col3\" class=\"col_heading level0 col3\" >Accuracy_Under_Sampling</th>\n",
              "      <th id=\"T_db096_level0_col4\" class=\"col_heading level0 col4\" >Accuracy_Smoteenn</th>\n",
              "    </tr>\n",
              "  </thead>\n",
              "  <tbody>\n",
              "    <tr>\n",
              "      <th id=\"T_db096_level0_row0\" class=\"row_heading level0 row0\" >0</th>\n",
              "      <td id=\"T_db096_row0_col0\" class=\"data row0 col0\" >KNeighborsClassifier</td>\n",
              "      <td id=\"T_db096_row0_col1\" class=\"data row0 col1\" >0.984087</td>\n",
              "      <td id=\"T_db096_row0_col2\" class=\"data row0 col2\" >0.941934</td>\n",
              "      <td id=\"T_db096_row0_col3\" class=\"data row0 col3\" >0.602362</td>\n",
              "      <td id=\"T_db096_row0_col4\" class=\"data row0 col4\" >0.944465</td>\n",
              "    </tr>\n",
              "    <tr>\n",
              "      <th id=\"T_db096_level0_row1\" class=\"row_heading level0 row1\" >1</th>\n",
              "      <td id=\"T_db096_row1_col0\" class=\"data row1 col0\" >SVC</td>\n",
              "      <td id=\"T_db096_row1_col1\" class=\"data row1 col1\" >0.984883</td>\n",
              "      <td id=\"T_db096_row1_col2\" class=\"data row1 col2\" >0.851902</td>\n",
              "      <td id=\"T_db096_row1_col3\" class=\"data row1 col3\" >0.480315</td>\n",
              "      <td id=\"T_db096_row1_col4\" class=\"data row1 col4\" >0.865024</td>\n",
              "    </tr>\n",
              "    <tr>\n",
              "      <th id=\"T_db096_level0_row2\" class=\"row_heading level0 row2\" >2</th>\n",
              "      <td id=\"T_db096_row2_col0\" class=\"data row2 col0\" >GaussianNB</td>\n",
              "      <td id=\"T_db096_row2_col1\" class=\"data row2 col1\" >0.984617</td>\n",
              "      <td id=\"T_db096_row2_col2\" class=\"data row2 col2\" >0.701915</td>\n",
              "      <td id=\"T_db096_row2_col3\" class=\"data row2 col3\" >0.574803</td>\n",
              "      <td id=\"T_db096_row2_col4\" class=\"data row2 col4\" >0.703126</td>\n",
              "    </tr>\n",
              "    <tr>\n",
              "      <th id=\"T_db096_level0_row3\" class=\"row_heading level0 row3\" >3</th>\n",
              "      <td id=\"T_db096_row3_col0\" class=\"data row3 col0\" >DecisionTreeClassifier</td>\n",
              "      <td id=\"T_db096_row3_col1\" class=\"data row3 col1\" >0.967909</td>\n",
              "      <td id=\"T_db096_row3_col2\" class=\"data row3 col2\" >0.974710</td>\n",
              "      <td id=\"T_db096_row3_col3\" class=\"data row3 col3\" >0.598425</td>\n",
              "      <td id=\"T_db096_row3_col4\" class=\"data row3 col4\" >0.980066</td>\n",
              "    </tr>\n",
              "    <tr>\n",
              "      <th id=\"T_db096_level0_row4\" class=\"row_heading level0 row4\" >4</th>\n",
              "      <td id=\"T_db096_row4_col0\" class=\"data row4 col0\" >AdaBoostClassifier</td>\n",
              "      <td id=\"T_db096_row4_col1\" class=\"data row4 col1\" >0.984883</td>\n",
              "      <td id=\"T_db096_row4_col2\" class=\"data row4 col2\" >0.839223</td>\n",
              "      <td id=\"T_db096_row4_col3\" class=\"data row4 col3\" >0.562992</td>\n",
              "      <td id=\"T_db096_row4_col4\" class=\"data row4 col4\" >0.841927</td>\n",
              "    </tr>\n",
              "    <tr>\n",
              "      <th id=\"T_db096_level0_row5\" class=\"row_heading level0 row5\" >5</th>\n",
              "      <td id=\"T_db096_row5_col0\" class=\"data row5 col0\" >GradientBoostingClassifier</td>\n",
              "      <td id=\"T_db096_row5_col1\" class=\"data row5 col1\" >0.985015</td>\n",
              "      <td id=\"T_db096_row5_col2\" class=\"data row5 col2\" >0.895131</td>\n",
              "      <td id=\"T_db096_row5_col3\" class=\"data row5 col3\" >0.606299</td>\n",
              "      <td id=\"T_db096_row5_col4\" class=\"data row5 col4\" >0.897609</td>\n",
              "    </tr>\n",
              "    <tr>\n",
              "      <th id=\"T_db096_level0_row6\" class=\"row_heading level0 row6\" >6</th>\n",
              "      <td id=\"T_db096_row6_col0\" class=\"data row6 col0\" >XGBRFClassifier</td>\n",
              "      <td id=\"T_db096_row6_col1\" class=\"data row6 col1\" >0.984883</td>\n",
              "      <td id=\"T_db096_row6_col2\" class=\"data row6 col2\" >0.831400</td>\n",
              "      <td id=\"T_db096_row6_col3\" class=\"data row6 col3\" >0.574803</td>\n",
              "      <td id=\"T_db096_row6_col4\" class=\"data row6 col4\" >0.825524</td>\n",
              "    </tr>\n",
              "    <tr>\n",
              "      <th id=\"T_db096_level0_row7\" class=\"row_heading level0 row7\" >7</th>\n",
              "      <td id=\"T_db096_row7_col0\" class=\"data row7 col0\" >RandomForestClassifier</td>\n",
              "      <td id=\"T_db096_row7_col1\" class=\"data row7 col1\" >0.983822</td>\n",
              "      <td id=\"T_db096_row7_col2\" class=\"data row7 col2\" >0.989817</td>\n",
              "      <td id=\"T_db096_row7_col3\" class=\"data row7 col3\" >0.661417</td>\n",
              "      <td id=\"T_db096_row7_col4\" class=\"data row7 col4\" >0.992277</td>\n",
              "    </tr>\n",
              "  </tbody>\n",
              "</table>\n"
            ],
            "text/plain": [
              "<pandas.io.formats.style.Styler at 0x7d3fe00b85e0>"
            ]
          },
          "execution_count": 57,
          "metadata": {},
          "output_type": "execute_result"
        }
      ],
      "source": [
        "# highlight the highest accuracy of all\n",
        "accuracy= pd.DataFrame({\"Algorithm\": [\"KNeighborsClassifier\", \"SVC\", \"GaussianNB\", \"DecisionTreeClassifier\", \"AdaBoostClassifier\", \"GradientBoostingClassifier\", \"XGBRFClassifier\", \"RandomForestClassifier\"],\n",
        "                        'Accuracy_Without_Sampling': accuracy_without_sampling,\n",
        "                        'Accuracy_Over_Sampling': accuracy_over_sampling,\n",
        "                        'Accuracy_Under_Sampling':accuracy_under_sampling,\n",
        "                        'Accuracy_Smoteenn':accuracy_smoteenn})\n",
        "\n",
        "accuracy\n",
        "accuracy.style.highlight_max(subset=[\"Accuracy_Without_Sampling\", \"Accuracy_Over_Sampling\",\"Accuracy_Under_Sampling\",\"Accuracy_Smoteenn\"], color='lightgreen', axis=0)"
      ]
    },
    {
      "cell_type": "code",
      "execution_count": 57,
      "metadata": {
        "id": "n0GCZBTIG8pf"
      },
      "outputs": [],
      "source": []
    },
    {
      "cell_type": "markdown",
      "metadata": {
        "id": "oXM9WJrdZHkV"
      },
      "source": [
        "#**SMOTEENN-Feature Extraction**"
      ]
    },
    {
      "cell_type": "code",
      "execution_count": 58,
      "metadata": {
        "id": "xlK9n0nIOZgE"
      },
      "outputs": [],
      "source": [
        "# scaling\n",
        "from sklearn.preprocessing import MinMaxScaler\n",
        "mms=MinMaxScaler()\n",
        "X_sc=mms.fit_transform(X_sc)"
      ]
    },
    {
      "cell_type": "code",
      "execution_count": 59,
      "metadata": {
        "id": "W9wydiJ8Gd32"
      },
      "outputs": [],
      "source": [
        "# PCA\n",
        "from sklearn.decomposition import PCA\n",
        "pca=PCA()\n",
        "X_sc_pca=pca.fit_transform(X_sc)"
      ]
    },
    {
      "cell_type": "code",
      "execution_count": 60,
      "metadata": {
        "id": "wCo6T2PaGiqd"
      },
      "outputs": [],
      "source": [
        "# train test split\n",
        "from sklearn.model_selection import train_test_split\n",
        "X_train_pca,X_test_pca,y_train_pca,y_test_pca=train_test_split(X_sc_pca,y_sc,test_size=0.3,random_state=1)"
      ]
    },
    {
      "cell_type": "code",
      "execution_count": 61,
      "metadata": {
        "colab": {
          "base_uri": "https://localhost:8080/"
        },
        "id": "BUbvhxggGrC-",
        "outputId": "6fc7fe4a-d945-4da7-9ea8-51797c904370"
      },
      "outputs": [
        {
          "name": "stdout",
          "output_type": "stream",
          "text": [
            "____________________________________________________________________________________________________\n",
            "******************** KNeighborsClassifier ********************\n",
            "              precision    recall  f1-score   support\n",
            "\n",
            "           0       0.98      0.90      0.94      6477\n",
            "           1       0.92      0.98      0.95      7118\n",
            "\n",
            "    accuracy                           0.94     13595\n",
            "   macro avg       0.95      0.94      0.94     13595\n",
            "weighted avg       0.95      0.94      0.94     13595\n",
            "\n",
            "____________________________________________________________________________________________________\n",
            "******************** SVC ********************\n",
            "              precision    recall  f1-score   support\n",
            "\n",
            "           0       0.90      0.83      0.86      6477\n",
            "           1       0.85      0.91      0.88      7118\n",
            "\n",
            "    accuracy                           0.87     13595\n",
            "   macro avg       0.88      0.87      0.87     13595\n",
            "weighted avg       0.88      0.87      0.87     13595\n",
            "\n",
            "____________________________________________________________________________________________________\n",
            "******************** GaussianNB ********************\n",
            "              precision    recall  f1-score   support\n",
            "\n",
            "           0       0.77      0.60      0.67      6477\n",
            "           1       0.69      0.84      0.76      7118\n",
            "\n",
            "    accuracy                           0.72     13595\n",
            "   macro avg       0.73      0.72      0.72     13595\n",
            "weighted avg       0.73      0.72      0.72     13595\n",
            "\n",
            "____________________________________________________________________________________________________\n",
            "******************** DecisionTreeClassifier ********************\n",
            "              precision    recall  f1-score   support\n",
            "\n",
            "           0       0.96      0.94      0.95      6477\n",
            "           1       0.95      0.97      0.96      7118\n",
            "\n",
            "    accuracy                           0.95     13595\n",
            "   macro avg       0.95      0.95      0.95     13595\n",
            "weighted avg       0.95      0.95      0.95     13595\n",
            "\n",
            "____________________________________________________________________________________________________\n",
            "******************** AdaBoostClassifier ********************\n",
            "              precision    recall  f1-score   support\n",
            "\n",
            "           0       0.81      0.77      0.79      6477\n",
            "           1       0.80      0.84      0.82      7118\n",
            "\n",
            "    accuracy                           0.81     13595\n",
            "   macro avg       0.81      0.80      0.80     13595\n",
            "weighted avg       0.81      0.81      0.80     13595\n",
            "\n",
            "____________________________________________________________________________________________________\n",
            "******************** GradientBoostingClassifier ********************\n",
            "              precision    recall  f1-score   support\n",
            "\n",
            "           0       0.87      0.81      0.84      6477\n",
            "           1       0.84      0.89      0.87      7118\n",
            "\n",
            "    accuracy                           0.85     13595\n",
            "   macro avg       0.86      0.85      0.85     13595\n",
            "weighted avg       0.86      0.85      0.85     13595\n",
            "\n",
            "____________________________________________________________________________________________________\n",
            "******************** XGBRFClassifier ********************\n",
            "              precision    recall  f1-score   support\n",
            "\n",
            "           0       0.82      0.81      0.82      6477\n",
            "           1       0.83      0.84      0.84      7118\n",
            "\n",
            "    accuracy                           0.83     13595\n",
            "   macro avg       0.83      0.83      0.83     13595\n",
            "weighted avg       0.83      0.83      0.83     13595\n",
            "\n",
            "____________________________________________________________________________________________________\n",
            "******************** RandomForestClassifier ********************\n",
            "              precision    recall  f1-score   support\n",
            "\n",
            "           0       0.99      0.98      0.98      6477\n",
            "           1       0.98      0.99      0.98      7118\n",
            "\n",
            "    accuracy                           0.98     13595\n",
            "   macro avg       0.98      0.98      0.98     13595\n",
            "weighted avg       0.98      0.98      0.98     13595\n",
            "\n"
          ]
        }
      ],
      "source": [
        "# Model Building\n",
        "from sklearn.neighbors import KNeighborsClassifier\n",
        "from sklearn.svm import SVC\n",
        "from sklearn.naive_bayes import GaussianNB\n",
        "from sklearn.tree import DecisionTreeClassifier\n",
        "from sklearn.ensemble import RandomForestClassifier\n",
        "from sklearn.ensemble import AdaBoostClassifier\n",
        "from sklearn.ensemble import GradientBoostingClassifier\n",
        "from xgboost import XGBRFClassifier\n",
        "\n",
        "from sklearn.metrics import ConfusionMatrixDisplay, classification_report,accuracy_score\n",
        "\n",
        "knn = KNeighborsClassifier()\n",
        "svc = SVC()\n",
        "nb = GaussianNB()\n",
        "de = DecisionTreeClassifier()\n",
        "ad = AdaBoostClassifier()\n",
        "gb = GradientBoostingClassifier()\n",
        "xb = XGBRFClassifier()\n",
        "rf = RandomForestClassifier()\n",
        "\n",
        "lst1 = [knn, svc, nb, de, ad, gb, xb, rf]\n",
        "accuracy_smoteenn_pca=[]\n",
        "\n",
        "for i in lst1:\n",
        "    print(\"_\" * 100)\n",
        "    print(\"*\" * 20,i.__class__.__name__, \"*\" * 20)\n",
        "    i.fit(X_train_pca,y_train_pca)\n",
        "    y_pred_pca = i.predict(X_test_pca)\n",
        "    # print(ConfusionMatrixDisplay.from_predictions(y_test,y_pred))\n",
        "    print(classification_report(y_test_pca,y_pred_pca))\n",
        "    accuracy=accuracy_score(y_test_pca,y_pred_pca)\n",
        "    # accuracy_smoteenn_pca.append(f\"{i.__class__.__name__}: {accuracy}\")\n",
        "    accuracy_smoteenn_pca.append(accuracy)"
      ]
    },
    {
      "cell_type": "code",
      "execution_count": 62,
      "metadata": {
        "id": "Yd9iRjWsG9pW"
      },
      "outputs": [],
      "source": [
        "# accuracy_using_pca = pd.DataFrame({\n",
        "#     \"Algorithm\": [\"KNeighborsClassifier\", \"SVC\", \"GaussianNB\", \"DecisionTreeClassifier\", \"AdaBoostClassifier\", \"GradientBoostingClassifier\", \"XGBRFClassifier\", \"RandomForestClassifier\"],\n",
        "#     \"Accuracy_Over_Sampling_PCA\": accuracy_over_sampling_pca,\n",
        "#     \"Accuracy_SMOTEENN_PCA\": accuracy_smoteenn_pca\n",
        "# })\n",
        "\n",
        "# accuracy_using_pca.style.highlight_max(color = 'lightgreen', axis = 0)\n"
      ]
    },
    {
      "cell_type": "code",
      "execution_count": 63,
      "metadata": {
        "colab": {
          "base_uri": "https://localhost:8080/",
          "height": 300
        },
        "id": "hbeK7JUrfBv4",
        "outputId": "e5ce711d-fc2f-49ca-959c-7b46cf309086"
      },
      "outputs": [
        {
          "data": {
            "text/html": [
              "<style type=\"text/css\">\n",
              "#T_1a598_row7_col1, #T_1a598_row7_col2 {\n",
              "  background-color: lightgreen;\n",
              "}\n",
              "</style>\n",
              "<table id=\"T_1a598\" class=\"dataframe\">\n",
              "  <thead>\n",
              "    <tr>\n",
              "      <th class=\"blank level0\" >&nbsp;</th>\n",
              "      <th id=\"T_1a598_level0_col0\" class=\"col_heading level0 col0\" >Algorithm</th>\n",
              "      <th id=\"T_1a598_level0_col1\" class=\"col_heading level0 col1\" >Accuracy_Over_Sampling_PCA</th>\n",
              "      <th id=\"T_1a598_level0_col2\" class=\"col_heading level0 col2\" >Accuracy_SMOTEENN_PCA</th>\n",
              "    </tr>\n",
              "  </thead>\n",
              "  <tbody>\n",
              "    <tr>\n",
              "      <th id=\"T_1a598_level0_row0\" class=\"row_heading level0 row0\" >0</th>\n",
              "      <td id=\"T_1a598_row0_col0\" class=\"data row0 col0\" >KNeighborsClassifier</td>\n",
              "      <td id=\"T_1a598_row0_col1\" class=\"data row0 col1\" >0.941934</td>\n",
              "      <td id=\"T_1a598_row0_col2\" class=\"data row0 col2\" >0.944465</td>\n",
              "    </tr>\n",
              "    <tr>\n",
              "      <th id=\"T_1a598_level0_row1\" class=\"row_heading level0 row1\" >1</th>\n",
              "      <td id=\"T_1a598_row1_col0\" class=\"data row1 col0\" >SVC</td>\n",
              "      <td id=\"T_1a598_row1_col1\" class=\"data row1 col1\" >0.859995</td>\n",
              "      <td id=\"T_1a598_row1_col2\" class=\"data row1 col2\" >0.873630</td>\n",
              "    </tr>\n",
              "    <tr>\n",
              "      <th id=\"T_1a598_level0_row2\" class=\"row_heading level0 row2\" >2</th>\n",
              "      <td id=\"T_1a598_row2_col0\" class=\"data row2 col0\" >GaussianNB</td>\n",
              "      <td id=\"T_1a598_row2_col1\" class=\"data row2 col1\" >0.720596</td>\n",
              "      <td id=\"T_1a598_row2_col2\" class=\"data row2 col2\" >0.722177</td>\n",
              "    </tr>\n",
              "    <tr>\n",
              "      <th id=\"T_1a598_level0_row3\" class=\"row_heading level0 row3\" >3</th>\n",
              "      <td id=\"T_1a598_row3_col0\" class=\"data row3 col0\" >DecisionTreeClassifier</td>\n",
              "      <td id=\"T_1a598_row3_col1\" class=\"data row3 col1\" >0.956906</td>\n",
              "      <td id=\"T_1a598_row3_col2\" class=\"data row3 col2\" >0.954174</td>\n",
              "    </tr>\n",
              "    <tr>\n",
              "      <th id=\"T_1a598_level0_row4\" class=\"row_heading level0 row4\" >4</th>\n",
              "      <td id=\"T_1a598_row4_col0\" class=\"data row4 col0\" >AdaBoostClassifier</td>\n",
              "      <td id=\"T_1a598_row4_col1\" class=\"data row4 col1\" >0.798827</td>\n",
              "      <td id=\"T_1a598_row4_col2\" class=\"data row4 col2\" >0.805223</td>\n",
              "    </tr>\n",
              "    <tr>\n",
              "      <th id=\"T_1a598_level0_row5\" class=\"row_heading level0 row5\" >5</th>\n",
              "      <td id=\"T_1a598_row5_col0\" class=\"data row5 col0\" >GradientBoostingClassifier</td>\n",
              "      <td id=\"T_1a598_row5_col1\" class=\"data row5 col1\" >0.846641</td>\n",
              "      <td id=\"T_1a598_row5_col2\" class=\"data row5 col2\" >0.854873</td>\n",
              "    </tr>\n",
              "    <tr>\n",
              "      <th id=\"T_1a598_level0_row6\" class=\"row_heading level0 row6\" >6</th>\n",
              "      <td id=\"T_1a598_row6_col0\" class=\"data row6 col0\" >XGBRFClassifier</td>\n",
              "      <td id=\"T_1a598_row6_col1\" class=\"data row6 col1\" >0.807998</td>\n",
              "      <td id=\"T_1a598_row6_col2\" class=\"data row6 col2\" >0.826848</td>\n",
              "    </tr>\n",
              "    <tr>\n",
              "      <th id=\"T_1a598_level0_row7\" class=\"row_heading level0 row7\" >7</th>\n",
              "      <td id=\"T_1a598_row7_col0\" class=\"data row7 col0\" >RandomForestClassifier</td>\n",
              "      <td id=\"T_1a598_row7_col1\" class=\"data row7 col1\" >0.978554</td>\n",
              "      <td id=\"T_1a598_row7_col2\" class=\"data row7 col2\" >0.981758</td>\n",
              "    </tr>\n",
              "  </tbody>\n",
              "</table>\n"
            ],
            "text/plain": [
              "<pandas.io.formats.style.Styler at 0x7d3fe0111ab0>"
            ]
          },
          "execution_count": 63,
          "metadata": {},
          "output_type": "execute_result"
        }
      ],
      "source": [
        " # highlight the highest accuracy using pca\n",
        "\n",
        "accuracy_using_pca = pd.DataFrame({\n",
        "    \"Algorithm\": [\"KNeighborsClassifier\", \"SVC\", \"GaussianNB\", \"DecisionTreeClassifier\", \"AdaBoostClassifier\", \"GradientBoostingClassifier\", \"XGBRFClassifier\", \"RandomForestClassifier\"],\n",
        "    \"Accuracy_Over_Sampling_PCA\": accuracy_over_sampling_pca,\n",
        "    \"Accuracy_SMOTEENN_PCA\": accuracy_smoteenn_pca})\n",
        "\n",
        "accuracy_using_pca.style.highlight_max(subset=[\"Accuracy_Over_Sampling_PCA\", \"Accuracy_SMOTEENN_PCA\"], color='lightgreen', axis=0)"
      ]
    },
    {
      "cell_type": "code",
      "execution_count": 63,
      "metadata": {
        "id": "UQAcm0mETyP6"
      },
      "outputs": [],
      "source": []
    },
    {
      "cell_type": "markdown",
      "metadata": {
        "id": "LPnGlu-mTbOC"
      },
      "source": [
        "We can observe that SMOTEENN with RandomForestClassifier model produces the best accuracy in the all-machine learning model."
      ]
    },
    {
      "cell_type": "markdown",
      "metadata": {
        "id": "Zc-DciUFg_8I"
      },
      "source": [
        "#**Model Prediction**"
      ]
    },
    {
      "cell_type": "code",
      "execution_count": 64,
      "metadata": {
        "id": "emknXp8mcY67"
      },
      "outputs": [],
      "source": [
        "X=df.iloc[:,:-1]\n",
        "y=df.iloc[:,-1]"
      ]
    },
    {
      "cell_type": "code",
      "execution_count": 65,
      "metadata": {
        "colab": {
          "base_uri": "https://localhost:8080/",
          "height": 467
        },
        "id": "j4BnS-JDWd_B",
        "outputId": "6dd31971-ca40-4b13-c2ac-03c5f0283128"
      },
      "outputs": [
        {
          "data": {
            "text/html": [
              "\n",
              "\n",
              "  <div id=\"df-51ace039-1293-4b33-84f9-d31bb23dc752\">\n",
              "    <div class=\"colab-df-container\">\n",
              "      <div>\n",
              "<style scoped>\n",
              "    .dataframe tbody tr th:only-of-type {\n",
              "        vertical-align: middle;\n",
              "    }\n",
              "\n",
              "    .dataframe tbody tr th {\n",
              "        vertical-align: top;\n",
              "    }\n",
              "\n",
              "    .dataframe thead th {\n",
              "        text-align: right;\n",
              "    }\n",
              "</style>\n",
              "<table border=\"1\" class=\"dataframe\">\n",
              "  <thead>\n",
              "    <tr style=\"text-align: right;\">\n",
              "      <th></th>\n",
              "      <th>GENDER</th>\n",
              "      <th>CAR</th>\n",
              "      <th>REALITY</th>\n",
              "      <th>INCOME</th>\n",
              "      <th>INCOME_TYPE</th>\n",
              "      <th>EDUCATION_TYPE</th>\n",
              "      <th>FAMILY_TYPE</th>\n",
              "      <th>HOUSE_TYPE</th>\n",
              "      <th>WORK_PHONE</th>\n",
              "      <th>PHONE</th>\n",
              "      <th>E_MAIL</th>\n",
              "      <th>FAMILY SIZE</th>\n",
              "      <th>BEGIN_MONTH</th>\n",
              "      <th>AGE</th>\n",
              "      <th>YEARS_EMPLOYED</th>\n",
              "    </tr>\n",
              "  </thead>\n",
              "  <tbody>\n",
              "    <tr>\n",
              "      <th>0</th>\n",
              "      <td>1</td>\n",
              "      <td>1</td>\n",
              "      <td>1</td>\n",
              "      <td>112500.0</td>\n",
              "      <td>4</td>\n",
              "      <td>4</td>\n",
              "      <td>1</td>\n",
              "      <td>1</td>\n",
              "      <td>0</td>\n",
              "      <td>0</td>\n",
              "      <td>0</td>\n",
              "      <td>2.000000</td>\n",
              "      <td>29</td>\n",
              "      <td>59</td>\n",
              "      <td>3</td>\n",
              "    </tr>\n",
              "    <tr>\n",
              "      <th>1</th>\n",
              "      <td>0</td>\n",
              "      <td>0</td>\n",
              "      <td>1</td>\n",
              "      <td>270000.0</td>\n",
              "      <td>0</td>\n",
              "      <td>4</td>\n",
              "      <td>3</td>\n",
              "      <td>1</td>\n",
              "      <td>0</td>\n",
              "      <td>1</td>\n",
              "      <td>1</td>\n",
              "      <td>1.000000</td>\n",
              "      <td>38</td>\n",
              "      <td>52</td>\n",
              "      <td>8</td>\n",
              "    </tr>\n",
              "    <tr>\n",
              "      <th>2</th>\n",
              "      <td>1</td>\n",
              "      <td>1</td>\n",
              "      <td>1</td>\n",
              "      <td>270000.0</td>\n",
              "      <td>4</td>\n",
              "      <td>1</td>\n",
              "      <td>1</td>\n",
              "      <td>1</td>\n",
              "      <td>1</td>\n",
              "      <td>1</td>\n",
              "      <td>1</td>\n",
              "      <td>2.000000</td>\n",
              "      <td>5</td>\n",
              "      <td>46</td>\n",
              "      <td>2</td>\n",
              "    </tr>\n",
              "    <tr>\n",
              "      <th>3</th>\n",
              "      <td>1</td>\n",
              "      <td>1</td>\n",
              "      <td>1</td>\n",
              "      <td>135000.0</td>\n",
              "      <td>0</td>\n",
              "      <td>4</td>\n",
              "      <td>1</td>\n",
              "      <td>1</td>\n",
              "      <td>0</td>\n",
              "      <td>0</td>\n",
              "      <td>0</td>\n",
              "      <td>2.000000</td>\n",
              "      <td>17</td>\n",
              "      <td>49</td>\n",
              "      <td>3</td>\n",
              "    </tr>\n",
              "    <tr>\n",
              "      <th>4</th>\n",
              "      <td>1</td>\n",
              "      <td>1</td>\n",
              "      <td>1</td>\n",
              "      <td>135000.0</td>\n",
              "      <td>0</td>\n",
              "      <td>4</td>\n",
              "      <td>1</td>\n",
              "      <td>1</td>\n",
              "      <td>0</td>\n",
              "      <td>0</td>\n",
              "      <td>0</td>\n",
              "      <td>2.000000</td>\n",
              "      <td>16</td>\n",
              "      <td>49</td>\n",
              "      <td>3</td>\n",
              "    </tr>\n",
              "    <tr>\n",
              "      <th>...</th>\n",
              "      <td>...</td>\n",
              "      <td>...</td>\n",
              "      <td>...</td>\n",
              "      <td>...</td>\n",
              "      <td>...</td>\n",
              "      <td>...</td>\n",
              "      <td>...</td>\n",
              "      <td>...</td>\n",
              "      <td>...</td>\n",
              "      <td>...</td>\n",
              "      <td>...</td>\n",
              "      <td>...</td>\n",
              "      <td>...</td>\n",
              "      <td>...</td>\n",
              "      <td>...</td>\n",
              "    </tr>\n",
              "    <tr>\n",
              "      <th>45342</th>\n",
              "      <td>0</td>\n",
              "      <td>0</td>\n",
              "      <td>0</td>\n",
              "      <td>157500.0</td>\n",
              "      <td>3</td>\n",
              "      <td>1</td>\n",
              "      <td>1</td>\n",
              "      <td>1</td>\n",
              "      <td>0</td>\n",
              "      <td>0</td>\n",
              "      <td>0</td>\n",
              "      <td>2.174604</td>\n",
              "      <td>57</td>\n",
              "      <td>37</td>\n",
              "      <td>7</td>\n",
              "    </tr>\n",
              "    <tr>\n",
              "      <th>45343</th>\n",
              "      <td>0</td>\n",
              "      <td>0</td>\n",
              "      <td>1</td>\n",
              "      <td>292500.0</td>\n",
              "      <td>0</td>\n",
              "      <td>4</td>\n",
              "      <td>2</td>\n",
              "      <td>4</td>\n",
              "      <td>0</td>\n",
              "      <td>0</td>\n",
              "      <td>0</td>\n",
              "      <td>2.006348</td>\n",
              "      <td>11</td>\n",
              "      <td>27</td>\n",
              "      <td>6</td>\n",
              "    </tr>\n",
              "    <tr>\n",
              "      <th>45344</th>\n",
              "      <td>0</td>\n",
              "      <td>1</td>\n",
              "      <td>0</td>\n",
              "      <td>225000.0</td>\n",
              "      <td>0</td>\n",
              "      <td>4</td>\n",
              "      <td>2</td>\n",
              "      <td>1</td>\n",
              "      <td>0</td>\n",
              "      <td>0</td>\n",
              "      <td>0</td>\n",
              "      <td>1.654452</td>\n",
              "      <td>42</td>\n",
              "      <td>32</td>\n",
              "      <td>4</td>\n",
              "    </tr>\n",
              "    <tr>\n",
              "      <th>45345</th>\n",
              "      <td>0</td>\n",
              "      <td>0</td>\n",
              "      <td>1</td>\n",
              "      <td>121500.0</td>\n",
              "      <td>4</td>\n",
              "      <td>4</td>\n",
              "      <td>1</td>\n",
              "      <td>1</td>\n",
              "      <td>0</td>\n",
              "      <td>0</td>\n",
              "      <td>0</td>\n",
              "      <td>2.000000</td>\n",
              "      <td>30</td>\n",
              "      <td>53</td>\n",
              "      <td>12</td>\n",
              "    </tr>\n",
              "    <tr>\n",
              "      <th>45346</th>\n",
              "      <td>0</td>\n",
              "      <td>0</td>\n",
              "      <td>1</td>\n",
              "      <td>202500.0</td>\n",
              "      <td>4</td>\n",
              "      <td>2</td>\n",
              "      <td>2</td>\n",
              "      <td>1</td>\n",
              "      <td>0</td>\n",
              "      <td>0</td>\n",
              "      <td>0</td>\n",
              "      <td>2.000000</td>\n",
              "      <td>6</td>\n",
              "      <td>43</td>\n",
              "      <td>8</td>\n",
              "    </tr>\n",
              "  </tbody>\n",
              "</table>\n",
              "<p>45347 rows × 15 columns</p>\n",
              "</div>\n",
              "      <button class=\"colab-df-convert\" onclick=\"convertToInteractive('df-51ace039-1293-4b33-84f9-d31bb23dc752')\"\n",
              "              title=\"Convert this dataframe to an interactive table.\"\n",
              "              style=\"display:none;\">\n",
              "\n",
              "  <svg xmlns=\"http://www.w3.org/2000/svg\" height=\"24px\"viewBox=\"0 0 24 24\"\n",
              "       width=\"24px\">\n",
              "    <path d=\"M0 0h24v24H0V0z\" fill=\"none\"/>\n",
              "    <path d=\"M18.56 5.44l.94 2.06.94-2.06 2.06-.94-2.06-.94-.94-2.06-.94 2.06-2.06.94zm-11 1L8.5 8.5l.94-2.06 2.06-.94-2.06-.94L8.5 2.5l-.94 2.06-2.06.94zm10 10l.94 2.06.94-2.06 2.06-.94-2.06-.94-.94-2.06-.94 2.06-2.06.94z\"/><path d=\"M17.41 7.96l-1.37-1.37c-.4-.4-.92-.59-1.43-.59-.52 0-1.04.2-1.43.59L10.3 9.45l-7.72 7.72c-.78.78-.78 2.05 0 2.83L4 21.41c.39.39.9.59 1.41.59.51 0 1.02-.2 1.41-.59l7.78-7.78 2.81-2.81c.8-.78.8-2.07 0-2.86zM5.41 20L4 18.59l7.72-7.72 1.47 1.35L5.41 20z\"/>\n",
              "  </svg>\n",
              "      </button>\n",
              "\n",
              "\n",
              "\n",
              "    <div id=\"df-7d825e05-6e86-4a15-b36f-c60f703cb9b3\">\n",
              "      <button class=\"colab-df-quickchart\" onclick=\"quickchart('df-7d825e05-6e86-4a15-b36f-c60f703cb9b3')\"\n",
              "              title=\"Suggest charts.\"\n",
              "              style=\"display:none;\">\n",
              "\n",
              "<svg xmlns=\"http://www.w3.org/2000/svg\" height=\"24px\"viewBox=\"0 0 24 24\"\n",
              "     width=\"24px\">\n",
              "    <g>\n",
              "        <path d=\"M19 3H5c-1.1 0-2 .9-2 2v14c0 1.1.9 2 2 2h14c1.1 0 2-.9 2-2V5c0-1.1-.9-2-2-2zM9 17H7v-7h2v7zm4 0h-2V7h2v10zm4 0h-2v-4h2v4z\"/>\n",
              "    </g>\n",
              "</svg>\n",
              "      </button>\n",
              "    </div>\n",
              "\n",
              "<style>\n",
              "  .colab-df-quickchart {\n",
              "    background-color: #E8F0FE;\n",
              "    border: none;\n",
              "    border-radius: 50%;\n",
              "    cursor: pointer;\n",
              "    display: none;\n",
              "    fill: #1967D2;\n",
              "    height: 32px;\n",
              "    padding: 0 0 0 0;\n",
              "    width: 32px;\n",
              "  }\n",
              "\n",
              "  .colab-df-quickchart:hover {\n",
              "    background-color: #E2EBFA;\n",
              "    box-shadow: 0px 1px 2px rgba(60, 64, 67, 0.3), 0px 1px 3px 1px rgba(60, 64, 67, 0.15);\n",
              "    fill: #174EA6;\n",
              "  }\n",
              "\n",
              "  [theme=dark] .colab-df-quickchart {\n",
              "    background-color: #3B4455;\n",
              "    fill: #D2E3FC;\n",
              "  }\n",
              "\n",
              "  [theme=dark] .colab-df-quickchart:hover {\n",
              "    background-color: #434B5C;\n",
              "    box-shadow: 0px 1px 3px 1px rgba(0, 0, 0, 0.15);\n",
              "    filter: drop-shadow(0px 1px 2px rgba(0, 0, 0, 0.3));\n",
              "    fill: #FFFFFF;\n",
              "  }\n",
              "</style>\n",
              "\n",
              "    <script>\n",
              "      async function quickchart(key) {\n",
              "        const containerElement = document.querySelector('#' + key);\n",
              "        const charts = await google.colab.kernel.invokeFunction(\n",
              "            'suggestCharts', [key], {});\n",
              "      }\n",
              "    </script>\n",
              "\n",
              "      <script>\n",
              "\n",
              "function displayQuickchartButton(domScope) {\n",
              "  let quickchartButtonEl =\n",
              "    domScope.querySelector('#df-7d825e05-6e86-4a15-b36f-c60f703cb9b3 button.colab-df-quickchart');\n",
              "  quickchartButtonEl.style.display =\n",
              "    google.colab.kernel.accessAllowed ? 'block' : 'none';\n",
              "}\n",
              "\n",
              "        displayQuickchartButton(document);\n",
              "      </script>\n",
              "      <style>\n",
              "    .colab-df-container {\n",
              "      display:flex;\n",
              "      flex-wrap:wrap;\n",
              "      gap: 12px;\n",
              "    }\n",
              "\n",
              "    .colab-df-convert {\n",
              "      background-color: #E8F0FE;\n",
              "      border: none;\n",
              "      border-radius: 50%;\n",
              "      cursor: pointer;\n",
              "      display: none;\n",
              "      fill: #1967D2;\n",
              "      height: 32px;\n",
              "      padding: 0 0 0 0;\n",
              "      width: 32px;\n",
              "    }\n",
              "\n",
              "    .colab-df-convert:hover {\n",
              "      background-color: #E2EBFA;\n",
              "      box-shadow: 0px 1px 2px rgba(60, 64, 67, 0.3), 0px 1px 3px 1px rgba(60, 64, 67, 0.15);\n",
              "      fill: #174EA6;\n",
              "    }\n",
              "\n",
              "    [theme=dark] .colab-df-convert {\n",
              "      background-color: #3B4455;\n",
              "      fill: #D2E3FC;\n",
              "    }\n",
              "\n",
              "    [theme=dark] .colab-df-convert:hover {\n",
              "      background-color: #434B5C;\n",
              "      box-shadow: 0px 1px 3px 1px rgba(0, 0, 0, 0.15);\n",
              "      filter: drop-shadow(0px 1px 2px rgba(0, 0, 0, 0.3));\n",
              "      fill: #FFFFFF;\n",
              "    }\n",
              "  </style>\n",
              "\n",
              "      <script>\n",
              "        const buttonEl =\n",
              "          document.querySelector('#df-51ace039-1293-4b33-84f9-d31bb23dc752 button.colab-df-convert');\n",
              "        buttonEl.style.display =\n",
              "          google.colab.kernel.accessAllowed ? 'block' : 'none';\n",
              "\n",
              "        async function convertToInteractive(key) {\n",
              "          const element = document.querySelector('#df-51ace039-1293-4b33-84f9-d31bb23dc752');\n",
              "          const dataTable =\n",
              "            await google.colab.kernel.invokeFunction('convertToInteractive',\n",
              "                                                     [key], {});\n",
              "          if (!dataTable) return;\n",
              "\n",
              "          const docLinkHtml = 'Like what you see? Visit the ' +\n",
              "            '<a target=\"_blank\" href=https://colab.research.google.com/notebooks/data_table.ipynb>data table notebook</a>'\n",
              "            + ' to learn more about interactive tables.';\n",
              "          element.innerHTML = '';\n",
              "          dataTable['output_type'] = 'display_data';\n",
              "          await google.colab.output.renderOutput(dataTable, element);\n",
              "          const docLink = document.createElement('div');\n",
              "          docLink.innerHTML = docLinkHtml;\n",
              "          element.appendChild(docLink);\n",
              "        }\n",
              "      </script>\n",
              "    </div>\n",
              "  </div>\n"
            ],
            "text/plain": [
              "       GENDER  CAR  REALITY    INCOME  INCOME_TYPE  EDUCATION_TYPE  \\\n",
              "0           1    1        1  112500.0            4               4   \n",
              "1           0    0        1  270000.0            0               4   \n",
              "2           1    1        1  270000.0            4               1   \n",
              "3           1    1        1  135000.0            0               4   \n",
              "4           1    1        1  135000.0            0               4   \n",
              "...       ...  ...      ...       ...          ...             ...   \n",
              "45342       0    0        0  157500.0            3               1   \n",
              "45343       0    0        1  292500.0            0               4   \n",
              "45344       0    1        0  225000.0            0               4   \n",
              "45345       0    0        1  121500.0            4               4   \n",
              "45346       0    0        1  202500.0            4               2   \n",
              "\n",
              "       FAMILY_TYPE  HOUSE_TYPE  WORK_PHONE  PHONE  E_MAIL  FAMILY SIZE  \\\n",
              "0                1           1           0      0       0     2.000000   \n",
              "1                3           1           0      1       1     1.000000   \n",
              "2                1           1           1      1       1     2.000000   \n",
              "3                1           1           0      0       0     2.000000   \n",
              "4                1           1           0      0       0     2.000000   \n",
              "...            ...         ...         ...    ...     ...          ...   \n",
              "45342            1           1           0      0       0     2.174604   \n",
              "45343            2           4           0      0       0     2.006348   \n",
              "45344            2           1           0      0       0     1.654452   \n",
              "45345            1           1           0      0       0     2.000000   \n",
              "45346            2           1           0      0       0     2.000000   \n",
              "\n",
              "       BEGIN_MONTH  AGE  YEARS_EMPLOYED  \n",
              "0               29   59               3  \n",
              "1               38   52               8  \n",
              "2                5   46               2  \n",
              "3               17   49               3  \n",
              "4               16   49               3  \n",
              "...            ...  ...             ...  \n",
              "45342           57   37               7  \n",
              "45343           11   27               6  \n",
              "45344           42   32               4  \n",
              "45345           30   53              12  \n",
              "45346            6   43               8  \n",
              "\n",
              "[45347 rows x 15 columns]"
            ]
          },
          "execution_count": 65,
          "metadata": {},
          "output_type": "execute_result"
        }
      ],
      "source": [
        "# SMOTEENN\n",
        "from imblearn.combine import SMOTEENN\n",
        "sc=SMOTEENN()\n",
        "X_sc,y_sc=sc.fit_resample(X,y)\n",
        "\n",
        "X_sc"
      ]
    },
    {
      "cell_type": "code",
      "execution_count": 66,
      "metadata": {
        "id": "OGOdy-mAWeKe"
      },
      "outputs": [],
      "source": [
        "X_sc=mms.fit_transform(X_sc)\n"
      ]
    },
    {
      "cell_type": "code",
      "execution_count": 67,
      "metadata": {
        "id": "D3EhQqZQWeN7"
      },
      "outputs": [],
      "source": [
        "# train test   split\n",
        "from sklearn.model_selection import train_test_split\n",
        "X_train,X_test,y_train,y_test=train_test_split(X_sc,y_sc,test_size=0.3,random_state=1)"
      ]
    },
    {
      "cell_type": "code",
      "execution_count": 68,
      "metadata": {
        "colab": {
          "base_uri": "https://localhost:8080/"
        },
        "id": "hwHFVYgtWeQs",
        "outputId": "ec374d21-6430-40e2-c93a-f467cfe1d28b"
      },
      "outputs": [
        {
          "name": "stdout",
          "output_type": "stream",
          "text": [
            "[1]\n",
            "Fraud\n"
          ]
        }
      ],
      "source": [
        "rf = RandomForestClassifier()\n",
        "rf.fit(X_train,y_train)\n",
        "y_prde=rf.predict(X_test)\n",
        "y_pred_new=rf.predict(mms.transform([[0,0,1,157500.0,1,1,1,1,0,1,1,2.0,32,34,4]]))\n",
        "print(y_pred_new)\n",
        "if y_pred_new==1:\n",
        "  print(\"Fraud\")\n",
        "else:\n",
        "  print(\"NOT-Fraud\")"
      ]
    },
    {
      "cell_type": "code",
      "execution_count": 69,
      "metadata": {
        "colab": {
          "base_uri": "https://localhost:8080/"
        },
        "id": "jGv478WsfVG1",
        "outputId": "b67080cc-0ae2-41a0-82b8-a9f8bfd51edd"
      },
      "outputs": [
        {
          "data": {
            "text/plain": [
              "['RandomForestClassifier_credict.sav']"
            ]
          },
          "execution_count": 69,
          "metadata": {},
          "output_type": "execute_result"
        }
      ],
      "source": [
        "# model_saving\n",
        "\n",
        "import joblib\n",
        "joblib.dump(rf,\"RandomForestClassifier_credict.sav\")"
      ]
    },
    {
      "cell_type": "code",
      "execution_count": 70,
      "metadata": {
        "id": "uXb0lnl6mDWk"
      },
      "outputs": [],
      "source": [
        "import pickle\n",
        "\n",
        "# Save the trained model\n",
        "with open(\"random_forest_model.pkl\", \"wb\") as file:\n",
        "    pickle.dump(rf, file)\n"
      ]
    }
  ],
  "metadata": {
    "accelerator": "GPU",
    "colab": {
      "provenance": []
    },
    "kernelspec": {
      "display_name": "Python 3",
      "name": "python3"
    },
    "language_info": {
      "name": "python"
    }
  },
  "nbformat": 4,
  "nbformat_minor": 0
}
